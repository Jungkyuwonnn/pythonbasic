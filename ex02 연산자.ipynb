{
 "cells": [
  {
   "cell_type": "code",
   "execution_count": 1,
   "id": "34e310b7",
   "metadata": {},
   "outputs": [
    {
     "name": "stdout",
     "output_type": "stream",
     "text": [
      "1.4285714285714286\n",
      "3\n",
      "1\n"
     ]
    }
   ],
   "source": [
    "num1 = 10\n",
    "num2 = 7\n",
    "\n",
    "print(num1/num2)\n",
    "print(num1%num2)\n",
    "print(num1//num2)"
   ]
  },
  {
   "cell_type": "code",
   "execution_count": 2,
   "id": "bbf46a3f",
   "metadata": {},
   "outputs": [
    {
     "data": {
      "text/plain": [
       "'안녕하세요'"
      ]
     },
     "execution_count": 2,
     "metadata": {},
     "output_type": "execute_result"
    }
   ],
   "source": [
    "# 문자열을 더할 수 있다\n",
    "str1 = '안녕'\n",
    "str2 = '하세요'\n",
    "str1 + str2"
   ]
  },
  {
   "cell_type": "code",
   "execution_count": 3,
   "id": "0da60a44",
   "metadata": {},
   "outputs": [
    {
     "data": {
      "text/plain": [
       "'107'"
      ]
     },
     "execution_count": 3,
     "metadata": {},
     "output_type": "execute_result"
    }
   ],
   "source": [
    "str1 = '10'\n",
    "str2 = '7'\n",
    "str1 + str2"
   ]
  },
  {
   "cell_type": "code",
   "execution_count": null,
   "id": "d73cba5d",
   "metadata": {},
   "outputs": [],
   "source": [
    "num1 = 10\n",
    "str2 = '7'\n",
    "num1 + str2\n",
    "# 타입이 다르기 때문에 연산이 되지 않는다"
   ]
  },
  {
   "cell_type": "code",
   "execution_count": 4,
   "id": "15d9b860",
   "metadata": {},
   "outputs": [
    {
     "name": "stdout",
     "output_type": "stream",
     "text": [
      "107\n",
      "17\n"
     ]
    }
   ],
   "source": [
    "# 타입이 달라서 연산이 되지 않는 경우 형 변환을 해줘야 한다\n",
    "# 숫자를 문자로 바꿔주는 방식\n",
    "print(str(num1) + str2) # 문자열 더하기\n",
    "# 문자를 숫자로 바꿔주는 방식\n",
    "print(num1 + int(str2)) # 숫자 연산"
   ]
  },
  {
   "cell_type": "code",
   "execution_count": 26,
   "id": "1fefeea2",
   "metadata": {},
   "outputs": [
    {
     "name": "stdout",
     "output_type": "stream",
     "text": [
      "더하기 결과 :26\n",
      "빼기 결과 : 20\n",
      "곱하기 결과:  69\n",
      "나누기 결과 : 7.666666666666667\n"
     ]
    }
   ],
   "source": [
    "num1 = 23\n",
    "num2 = 3\n",
    "print('더하기 결과 :' + str(num1 + num2))\n",
    "print('빼기 결과 : '+ str(num1-num2))  \n",
    "print('곱하기 결과: ' , (num1*num2))\n",
    "print('나누기 결과 : ' + str(num1 / num2))"
   ]
  },
  {
   "cell_type": "code",
   "execution_count": 95,
   "id": "1645d11b",
   "metadata": {},
   "outputs": [
    {
     "name": "stdout",
     "output_type": "stream",
     "text": [
      "정수를 입력해주세요 >>17\n",
      "정수를 입력해주세요 >>10\n",
      "더하기 결과 : 27\n",
      "빼기 결과 :  7\n",
      "곱하기 결과:  170\n",
      "나누기 결과 :  1.7\n"
     ]
    }
   ],
   "source": [
    "# 입력문을 통해서 num1과 num2를 입력 받고 연산 결과를 살펴봅시다\n",
    "# input(\"표시할 문장\") -> 입력문은 str형으로 값을 돌려준다\n",
    "# 숫자 연산을 진행하고 싶으면 형 변환이 필요하다. \n",
    "num1 =int(input(\"정수를 입력해주세요 >>\")) \n",
    "num2 = int(input(\"정수를 입력해주세요 >>\"))\n",
    "print('더하기 결과 :' , str(num1 + num2))\n",
    "print('빼기 결과 : ', str(num1-num2))  \n",
    "print('곱하기 결과: ' , (num1*num2))\n",
    "print('나누기 결과 : ' , str(num1 / num2))"
   ]
  },
  {
   "cell_type": "code",
   "execution_count": 27,
   "id": "9b6060dc",
   "metadata": {},
   "outputs": [
    {
     "name": "stdout",
     "output_type": "stream",
     "text": [
      "<class 'int'>\n",
      "<class 'int'>\n"
     ]
    }
   ],
   "source": [
    "print(type(num1))\n",
    "print(type(num2))"
   ]
  },
  {
   "cell_type": "code",
   "execution_count": 51,
   "id": "5bf4d3eb",
   "metadata": {},
   "outputs": [
    {
     "name": "stdout",
     "output_type": "stream",
     "text": [
      "python 점수 입력 >> 100\n",
      "머신러닝 점수 입력 >> 80\n",
      "딥러닝 점수 입력 >> 60\n",
      "합계 :  {240}\n",
      "평균 :  {80.0}\n"
     ]
    }
   ],
   "source": [
    "num3 = int(input(\"python 점수 입력 >> \"))\n",
    "num4 = int(input(\"머신러닝 점수 입력 >> \"))\n",
    "num5 = int(input(\"딥러닝 점수 입력 >> \"))\n",
    "\n",
    "print(f'합계 : ' , num3+num4+num5)\n",
    "print(f'평균 : ' , (num3+num4+num5)/3)"
   ]
  },
  {
   "cell_type": "code",
   "execution_count": 52,
   "id": "e3f0e21f",
   "metadata": {},
   "outputs": [
    {
     "name": "stdout",
     "output_type": "stream",
     "text": [
      "시간 입력 >> 2723\n",
      "0시간 45분 23초\n"
     ]
    }
   ],
   "source": [
    "time = int(input(\"시간 입력 >> \"))\n",
    "hour = time//3600\n",
    "minute = time%3600//60\n",
    "second = time%3600%60\n",
    "print(f\"{hour}시간 {minute}분 {second}초\")"
   ]
  },
  {
   "cell_type": "code",
   "execution_count": 53,
   "id": "96e19e70",
   "metadata": {},
   "outputs": [
    {
     "name": "stdout",
     "output_type": "stream",
     "text": [
      "**********\n"
     ]
    }
   ],
   "source": [
    "# 문자열 곱하기\n",
    "s = '*'\n",
    "print(s * 10)"
   ]
  },
  {
   "cell_type": "code",
   "execution_count": 55,
   "id": "eb6d7645",
   "metadata": {},
   "outputs": [
    {
     "name": "stdout",
     "output_type": "stream",
     "text": [
      "안녕하세요안녕하세요\n"
     ]
    }
   ],
   "source": [
    "s = '안녕하세요'\n",
    "print(s * 2 )"
   ]
  },
  {
   "cell_type": "code",
   "execution_count": 56,
   "id": "00bd6126",
   "metadata": {},
   "outputs": [
    {
     "name": "stdout",
     "output_type": "stream",
     "text": [
      "정수 입력 >> 2\n",
      "지수 입력 >> 3\n",
      "2의 3 승은 8 입니다. \n"
     ]
    }
   ],
   "source": [
    "# 지수 연산자 문제\n",
    "num = int(input(\"정수 입력 >> \"))\n",
    "power = int(input('지수 입력 >> '))\n",
    "print(f\"{num}의 {power} 승은 {num ** power} 입니다. \")"
   ]
  },
  {
   "cell_type": "code",
   "execution_count": 61,
   "id": "45587857",
   "metadata": {},
   "outputs": [
    {
     "name": "stdout",
     "output_type": "stream",
     "text": [
      "******** 연산하기 ********\n",
      "정수 입력 >> 10\n",
      "정수 입력 >> 20\n",
      "+연산자 입력 >> +\n",
      "10 + 20  =  30\n"
     ]
    }
   ],
   "source": [
    "\n",
    "print( '*'*8 ,'연산하기', '*'*8)\n",
    "num1 = int(input(\"정수 입력 >> \"))\n",
    "num2 = int(input(\"정수 입력 >> \"))\n",
    "cal = input(\"+연산자 입력 >> \")\n",
    "print(f'{num1} {cal} {num2}  =  {num1 + num2}')"
   ]
  },
  {
   "cell_type": "code",
   "execution_count": 62,
   "id": "4a87b7dc",
   "metadata": {},
   "outputs": [
    {
     "data": {
      "text/plain": [
       "30"
      ]
     },
     "execution_count": 62,
     "metadata": {},
     "output_type": "execute_result"
    }
   ],
   "source": [
    "num = 27\n",
    "num += 3\n",
    "num"
   ]
  },
  {
   "cell_type": "code",
   "execution_count": 66,
   "id": "d5761aea",
   "metadata": {},
   "outputs": [
    {
     "name": "stdout",
     "output_type": "stream",
     "text": [
      "a :  3\n",
      "b :  7\n"
     ]
    }
   ],
   "source": [
    "# 변수 치환\n",
    "a = 7\n",
    "b = 3\n",
    "\n",
    "temp = a # 7\n",
    "a = b # 7->3\n",
    "b = temp # 3 -> 7\n",
    "\n",
    "print(\"a : \", a)\n",
    "print(\"b : \", b)"
   ]
  },
  {
   "cell_type": "code",
   "execution_count": 67,
   "id": "ad19af62",
   "metadata": {},
   "outputs": [
    {
     "name": "stdout",
     "output_type": "stream",
     "text": [
      "a :  3\n",
      "b :  7\n"
     ]
    }
   ],
   "source": [
    "a = 7\n",
    "b = 3\n",
    "\n",
    "a,b = b,a\n",
    "\n",
    "print(\"a : \", a)\n",
    "print(\"b : \", b)"
   ]
  },
  {
   "cell_type": "code",
   "execution_count": 68,
   "id": "1f0c6b4b",
   "metadata": {},
   "outputs": [
    {
     "name": "stdout",
     "output_type": "stream",
     "text": [
      "False\n",
      "True\n",
      "False\n",
      "True\n"
     ]
    }
   ],
   "source": [
    "a = 3\n",
    "b = 7\n",
    "\n",
    "print(a > b)\n",
    "print(a <= b)\n",
    "print( a == b)\n",
    "print(a != b)"
   ]
  },
  {
   "cell_type": "code",
   "execution_count": 81,
   "id": "ed4ea694",
   "metadata": {},
   "outputs": [
    {
     "name": "stdout",
     "output_type": "stream",
     "text": [
      "a : 9, b: 6\n",
      "False\n",
      "True\n",
      "False\n",
      "True\n"
     ]
    }
   ],
   "source": [
    "import random\n",
    "# random.randint : 범위 내의 값을 랜덤으로 뽑아주는 함수(정수)\n",
    "a = random.randint(1,10)\n",
    "b = random.randint(1,10)\n",
    "print(f\"a : {a}, b: {b}\")\n",
    "\n",
    "print(a<b)\n",
    "print(a > b)\n",
    "print(a == b)\n",
    "print(a != b)"
   ]
  },
  {
   "cell_type": "code",
   "execution_count": 82,
   "id": "167037e2",
   "metadata": {},
   "outputs": [
    {
     "data": {
      "text/plain": [
       "'합격'"
      ]
     },
     "execution_count": 82,
     "metadata": {},
     "output_type": "execute_result"
    }
   ],
   "source": [
    "score = 80\n",
    "'합격' if score >= 60 else '불합격'"
   ]
  },
  {
   "cell_type": "code",
   "execution_count": 83,
   "id": "457a708b",
   "metadata": {
    "scrolled": true
   },
   "outputs": [
    {
     "data": {
      "text/plain": [
       "'불합격'"
      ]
     },
     "execution_count": 83,
     "metadata": {},
     "output_type": "execute_result"
    }
   ],
   "source": [
    "score = 50\n",
    "'합격' if score >= 60 else '불합격'"
   ]
  },
  {
   "cell_type": "code",
   "execution_count": 89,
   "id": "f68b0bb3",
   "metadata": {},
   "outputs": [
    {
     "name": "stdout",
     "output_type": "stream",
     "text": [
      "정수입력 >> 7\n",
      "정수입력 >> 4\n",
      "a:  7\n"
     ]
    }
   ],
   "source": [
    "a = int(input(\"정수입력 >> \"))\n",
    "b = int(input(\"정수입력 >> \"))\n",
    "\n",
    "# 삼항연산자를 이용해서 큰 숫자를 골라오자\n",
    "print('a: ', a) if a>b else print('b: ', b)"
   ]
  },
  {
   "cell_type": "code",
   "execution_count": 91,
   "id": "3b6dcc76",
   "metadata": {},
   "outputs": [
    {
     "name": "stdout",
     "output_type": "stream",
     "text": [
      "정수입력 >> 22\n",
      "22 는(은) 짝수입니다.\n"
     ]
    }
   ],
   "source": [
    "# 키보드로 정수를 입력받아 홀수인지 짝수인지 판별해보기 (삼항연산자 사용)\n",
    "num5 = int(input(\"정수입력 >> \"))\n",
    "print(num5, \"는(은) 짝수입니다.\")if num5%2==0 else print(num5, \"는(은) 홀수입니다.\")\n"
   ]
  },
  {
   "cell_type": "code",
   "execution_count": 93,
   "id": "fc95f047",
   "metadata": {},
   "outputs": [
    {
     "name": "stdout",
     "output_type": "stream",
     "text": [
      "첫 번째 정수 입력 >> 33\n",
      "두 번째 정수 입력 >> 5\n",
      "두 수의 차 :  28\n"
     ]
    }
   ],
   "source": [
    "num6 = int(input(\"첫 번째 정수 입력 >> \"))\n",
    "num7 = int(input(\"두 번째 정수 입력 >> \"))\n",
    "print(\"두 수의 차 : \" , num6-num7)if num6 > num7 else print(\"두 수의 차 : \" , num7-num6)\n",
    "# print(f\"두 수의 차 : {num6-num7}\" if num 6 > num7 else f\"두 수의 차 : {num7 -num6}\")"
   ]
  },
  {
   "cell_type": "code",
   "execution_count": null,
   "id": "7644c8d4",
   "metadata": {},
   "outputs": [],
   "source": []
  }
 ],
 "metadata": {
  "kernelspec": {
   "display_name": "Python 3 (ipykernel)",
   "language": "python",
   "name": "python3"
  },
  "language_info": {
   "codemirror_mode": {
    "name": "ipython",
    "version": 3
   },
   "file_extension": ".py",
   "mimetype": "text/x-python",
   "name": "python",
   "nbconvert_exporter": "python",
   "pygments_lexer": "ipython3",
   "version": "3.11.5"
  }
 },
 "nbformat": 4,
 "nbformat_minor": 5
}
