{
 "cells": [
  {
   "cell_type": "code",
   "execution_count": 7,
   "id": "712ebf24",
   "metadata": {},
   "outputs": [
    {
     "name": "stdout",
     "output_type": "stream",
     "text": [
      "[]\n",
      "[1, 2, 3]\n",
      "[1, 2, ['My', 'name']]\n"
     ]
    }
   ],
   "source": [
    "a = []\n",
    "b = [1,2,3]\n",
    "c = ['My', 'name', 'is', 'MH']\n",
    "d = [1,2,'My', 'name']\n",
    "e = [1,2,['My', 'name']]\n",
    "print(a)\n",
    "print(b)\n",
    "print(e)"
   ]
  },
  {
   "cell_type": "code",
   "execution_count": 15,
   "id": "7c570834",
   "metadata": {},
   "outputs": [
    {
     "name": "stdout",
     "output_type": "stream",
     "text": [
      "[0, 1, 2, 3, 4, 5, 6, 7, 8, 9]\n",
      "4\n",
      "4 9 7\n"
     ]
    }
   ],
   "source": [
    "# 인덱싱 / 슬라이싱 실습\n",
    "# 1. 내부의 값이 0부터 9까지 있는 리스트를 하나 만들어주세요\n",
    "s = [0,1,2,3,4,5,6,7,8,9]\n",
    "print(s)\n",
    "# 인덱싱 문제\n",
    "# 1-1. 숫자 4를 가져오세요\n",
    "print(s[4])\n",
    "#1-2. 숫자 4,9,7 가져오기\n",
    "print(s[4], s[9], s[7])"
   ]
  },
  {
   "cell_type": "code",
   "execution_count": 20,
   "id": "afda460a",
   "metadata": {},
   "outputs": [
    {
     "data": {
      "text/plain": [
       "[1, 2, 3, ['a', 'b', 'c']]"
      ]
     },
     "execution_count": 20,
     "metadata": {},
     "output_type": "execute_result"
    }
   ],
   "source": [
    "# 2. 숫자 1,2,3과 ['a','b','c']를 이용해서 2차원 리스트를 만들어보기\n",
    "s1 = [1,2,3, ['a', 'b', 'c']]\n"
   ]
  },
  {
   "cell_type": "code",
   "execution_count": 31,
   "id": "b5ceee7b",
   "metadata": {},
   "outputs": [
    {
     "data": {
      "text/plain": [
       "['a', 'b', 'c']"
      ]
     },
     "execution_count": 31,
     "metadata": {},
     "output_type": "execute_result"
    }
   ],
   "source": [
    "# 2-1 temp라는 변수를 지정해서 ['a', 'b'. 'c']가 들어있는 리스트를 인덱싱 해보자\n",
    "temp = s1[3 ]\n",
    "temp"
   ]
  },
  {
   "cell_type": "code",
   "execution_count": 32,
   "id": "ffbbdcbc",
   "metadata": {},
   "outputs": [
    {
     "data": {
      "text/plain": [
       "'b'"
      ]
     },
     "execution_count": 32,
     "metadata": {},
     "output_type": "execute_result"
    }
   ],
   "source": [
    "# 2-2 temp에 저장된 리스트에서 b라는 문자만 인덱싱 해오자\n",
    "temp[1]"
   ]
  },
  {
   "cell_type": "code",
   "execution_count": 34,
   "id": "687597e3",
   "metadata": {},
   "outputs": [
    {
     "data": {
      "text/plain": [
       "'b'"
      ]
     },
     "execution_count": 34,
     "metadata": {},
     "output_type": "execute_result"
    }
   ],
   "source": [
    "#2-2 다른 형태로 b를 출력해보자\n",
    "s1[3][1]"
   ]
  },
  {
   "cell_type": "code",
   "execution_count": 35,
   "id": "e207ba69",
   "metadata": {},
   "outputs": [
    {
     "data": {
      "text/plain": [
       "[[0, 1, 2, 3], [4, 5, 6, 7], [8, 9, 10, 11], [12, 13, 14, 15]]"
      ]
     },
     "execution_count": 35,
     "metadata": {},
     "output_type": "execute_result"
    }
   ],
   "source": [
    "list3 = [[0,1,2,3],\n",
    "         [4,5,6,7],\n",
    "         [8,9,10,11],\n",
    "         [12,13,14,15]]\n",
    "list3"
   ]
  },
  {
   "cell_type": "code",
   "execution_count": 38,
   "id": "ece05a8c",
   "metadata": {},
   "outputs": [
    {
     "data": {
      "text/plain": [
       "5"
      ]
     },
     "execution_count": 38,
     "metadata": {},
     "output_type": "execute_result"
    }
   ],
   "source": [
    "list3[1][1]"
   ]
  },
  {
   "cell_type": "code",
   "execution_count": null,
   "id": "d2ea291e",
   "metadata": {},
   "outputs": [],
   "source": [
    "# 리스트 슬라이싱\n",
    "# 슬라이싱 규칙\n",
    "# 1. 인덱스에 숫자는 0부터 시작한다. \n",
    "# 2. 슬라이싱 끝 값은 항상 +1을 해준다"
   ]
  },
  {
   "cell_type": "code",
   "execution_count": 39,
   "id": "efeb09e1",
   "metadata": {},
   "outputs": [
    {
     "data": {
      "text/plain": [
       "[0, 1, 2, 3, 4, 5, 6, 7, 8, 9]"
      ]
     },
     "execution_count": 39,
     "metadata": {},
     "output_type": "execute_result"
    }
   ],
   "source": [
    "s"
   ]
  },
  {
   "cell_type": "code",
   "execution_count": 41,
   "id": "5c199c57",
   "metadata": {},
   "outputs": [
    {
     "data": {
      "text/plain": [
       "[3, 4, 5, 6, 7]"
      ]
     },
     "execution_count": 41,
     "metadata": {},
     "output_type": "execute_result"
    }
   ],
   "source": [
    "# 3부터 7까지의 숫자를 가져와주세요\n",
    "s[3 : 8]"
   ]
  },
  {
   "cell_type": "code",
   "execution_count": 42,
   "id": "45d2678f",
   "metadata": {},
   "outputs": [
    {
     "data": {
      "text/plain": [
       "[0, 1, 2, 3, 4]"
      ]
     },
     "execution_count": 42,
     "metadata": {},
     "output_type": "execute_result"
    }
   ],
   "source": [
    "# 0부터 4까지의 숫자를 가져와주세요\n",
    "s[ : 5]"
   ]
  },
  {
   "cell_type": "code",
   "execution_count": 43,
   "id": "d4b74db9",
   "metadata": {},
   "outputs": [
    {
     "data": {
      "text/plain": [
       "[6, 7, 8, 9]"
      ]
     },
     "execution_count": 43,
     "metadata": {},
     "output_type": "execute_result"
    }
   ],
   "source": [
    "# 6부터 9까지의 숫자 가져오기\n",
    "s[6 : ]"
   ]
  },
  {
   "cell_type": "code",
   "execution_count": 45,
   "id": "6b8e6550",
   "metadata": {},
   "outputs": [
    {
     "data": {
      "text/plain": [
       "[0, 1, 2, 3, 4, 5, 6, 7, 8, 9]"
      ]
     },
     "execution_count": 45,
     "metadata": {},
     "output_type": "execute_result"
    }
   ],
   "source": [
    "# 전체 숫자 가져오기\n",
    "s"
   ]
  },
  {
   "cell_type": "code",
   "execution_count": 46,
   "id": "2f0dfaec",
   "metadata": {},
   "outputs": [
    {
     "data": {
      "text/plain": [
       "[0, 1, 2, 3, 4, 5, 6, 7, 8, 9, 0, 1, 2, 3, 4, 5, 6, 7, 8, 9]"
      ]
     },
     "execution_count": 46,
     "metadata": {},
     "output_type": "execute_result"
    }
   ],
   "source": [
    "# 리스트 더하기\n",
    "s + s"
   ]
  },
  {
   "cell_type": "code",
   "execution_count": 48,
   "id": "2853e3eb",
   "metadata": {},
   "outputs": [
    {
     "data": {
      "text/plain": [
       "[1, 2, 3, 4, 5]"
      ]
     },
     "execution_count": 48,
     "metadata": {},
     "output_type": "execute_result"
    }
   ],
   "source": [
    "# 리스트 맨 뒤에 값을 추가해보자\n",
    "list4 = [1,2,3,4,5]\n",
    "list4"
   ]
  },
  {
   "cell_type": "code",
   "execution_count": 50,
   "id": "dcd85106",
   "metadata": {},
   "outputs": [
    {
     "data": {
      "text/plain": [
       "[1, 2, 3, 4, 5, 6, 6]"
      ]
     },
     "execution_count": 50,
     "metadata": {},
     "output_type": "execute_result"
    }
   ],
   "source": [
    "# append(추가해줄 값) : 리스트 맨 뒤에 값을 추가해주는 함수\n",
    "list4.append(6)\n",
    "list4"
   ]
  },
  {
   "cell_type": "code",
   "execution_count": 69,
   "id": "8356af7e",
   "metadata": {},
   "outputs": [
    {
     "data": {
      "text/plain": [
       "['사과', '오렌지', '수박']"
      ]
     },
     "execution_count": 69,
     "metadata": {},
     "output_type": "execute_result"
    }
   ],
   "source": [
    "# 인덱싱 + append 실습\n",
    "list_ = ['사과', '포도', ['수박', '멜론'], '복숭아', '딸기', '오렌지']\n",
    "# 뽑아온 과일을 저장할 빈 리스트 선언\n",
    "choice_list = []\n",
    "apple = list_[0]\n",
    "orange = list_[5]\n",
    "watermelone = list_[2][0]\n",
    "choice_list.append(apple), choice_list.append(orange), choice_list.append(watermelone)\n",
    "# choice_list.extend([apple, orange, watermelone])\n",
    "\n",
    "choice_list"
   ]
  },
  {
   "cell_type": "code",
   "execution_count": 71,
   "id": "45a2434e",
   "metadata": {},
   "outputs": [
    {
     "data": {
      "text/plain": [
       "[0, 1, 2, 3, 4]"
      ]
     },
     "execution_count": 71,
     "metadata": {},
     "output_type": "execute_result"
    }
   ],
   "source": [
    "list5 = [0, 1, 2, 3, 4]\n",
    "list5"
   ]
  },
  {
   "cell_type": "code",
   "execution_count": 72,
   "id": "8fed75e4",
   "metadata": {},
   "outputs": [
    {
     "data": {
      "text/plain": [
       "[0, 5, 1, 2, 3, 4]"
      ]
     },
     "execution_count": 72,
     "metadata": {},
     "output_type": "execute_result"
    }
   ],
   "source": [
    "# insert(인덱스 번호, 넣어줄 값)\n",
    "list5.insert(1,5)\n",
    "list5"
   ]
  },
  {
   "cell_type": "code",
   "execution_count": 73,
   "id": "9c98f3a9",
   "metadata": {},
   "outputs": [
    {
     "data": {
      "text/plain": [
       "[['CAMO', 'Freak like me'],\n",
       " ['틴탑', '아침부터 아침까지'],\n",
       " ['Post Malone', 'Rich and Sad']]"
      ]
     },
     "execution_count": 73,
     "metadata": {},
     "output_type": "execute_result"
    }
   ],
   "source": [
    "# insert 실습\n",
    "music_list = [['CAMO', 'Freak like me'], \n",
    "              ['틴탑', '아침부터 아침까지'], \n",
    "              ['Post Malone', 'Rich and Sad']]\n",
    "music_list"
   ]
  },
  {
   "cell_type": "code",
   "execution_count": 75,
   "id": "10180832",
   "metadata": {},
   "outputs": [
    {
     "data": {
      "text/plain": [
       "[['CAMO', 'Freak like me'],\n",
       " ['창모', '메테오'],\n",
       " ('창모', '메테오'),\n",
       " ['틴탑', '아침부터 아침까지'],\n",
       " ['Post Malone', 'Rich and Sad']]"
      ]
     },
     "execution_count": 75,
     "metadata": {},
     "output_type": "execute_result"
    }
   ],
   "source": [
    "# music_list 인덱스가 1인 곳에 ['창모', '메테오'] 추가\n",
    "music_list.insert(1, ['창모', '메테오'] )\n",
    "music_list"
   ]
  },
  {
   "cell_type": "code",
   "execution_count": 90,
   "id": "b05e52d6",
   "metadata": {},
   "outputs": [
    {
     "data": {
      "text/plain": [
       "[['CAMO', 'Freak like me'],\n",
       " ['창모', '메테오'],\n",
       " ['장미여관', '퇴근하겠습니다'],\n",
       " ['틴탑', '아침부터 아침까지'],\n",
       " ['노라조', '니팔자야'],\n",
       " ['Post Malone', 'Rich and Sad']]"
      ]
     },
     "execution_count": 90,
     "metadata": {},
     "output_type": "execute_result"
    }
   ],
   "source": [
    "# music_list 인덱스가 3인 곳에 ['장미여관', '퇴근하겠습니다'] 추가\n",
    "music_list.insert(3, ['장미여관', '퇴근하겠습니다'])\n",
    "music_list"
   ]
  },
  {
   "cell_type": "code",
   "execution_count": 98,
   "id": "d1fcd690",
   "metadata": {},
   "outputs": [
    {
     "data": {
      "text/plain": [
       "[['CAMO', 'Freak like me'],\n",
       " ['창모', '메테오'],\n",
       " ['장미여관', '퇴근하겠습니다'],\n",
       " ['틴탑', '아침부터 아침까지'],\n",
       " ['노라조', '니팔자야'],\n",
       " ['Post Malone', 'Rich and Sad'],\n",
       " ['노라조', '니팔자야'],\n",
       " ['노라조', '니팔자야']]"
      ]
     },
     "execution_count": 98,
     "metadata": {},
     "output_type": "execute_result"
    }
   ],
   "source": [
    "# music_list 마지막에 ['노라조', '니팔자야'] 추가\n",
    "# music_list.insert(-1 , ['노라조', '니팔자야'])\n",
    "#del music_list[4]\n",
    "music_list.append( ['노라조', '니팔자야'])\n",
    "music_list"
   ]
  },
  {
   "cell_type": "code",
   "execution_count": 109,
   "id": "e2419b36",
   "metadata": {},
   "outputs": [
    {
     "name": "stdout",
     "output_type": "stream",
     "text": [
      "인덱스 번호 입력하세요 >> 3\n",
      "가수를 입력하세요 >> Day6\n",
      "제목를 입력하세요 >> 한페이지어쩌구\n"
     ]
    },
    {
     "data": {
      "text/plain": [
       "[['태연', 'I'],\n",
       " ['CAMO', 'Freak like me'],\n",
       " ['창모', '메테오'],\n",
       " ['Day6', '한페이지어쩌구'],\n",
       " ['장미여관', '퇴근하겠습니다'],\n",
       " ['틴탑', '아침부터 아침까지'],\n",
       " ['노라조', '니팔자야'],\n",
       " ['Post Malone', 'Rich and Sad'],\n",
       " ['노라조', '니팔자야'],\n",
       " ['노라조', '니팔자야']]"
      ]
     },
     "execution_count": 109,
     "metadata": {},
     "output_type": "execute_result"
    }
   ],
   "source": [
    "# 인덱스 번호 / 가수명 / 노래 제목 입력받는 입력문 만들기 -> 변수에 저장\n",
    "number = int(input(\"인덱스 번호 입력하세요 >> \"))\n",
    "singer = input(\"가수를 입력하세요 >> \")\n",
    "song = input(\"제목를 입력하세요 >> \")\n",
    "\n",
    "# insert문을 이용해서 music_list에 새로운 값을 추가해주세요\n",
    "music_list.insert(number, [singer, song])\n",
    "music_list"
   ]
  },
  {
   "cell_type": "code",
   "execution_count": 117,
   "id": "3bfca320",
   "metadata": {},
   "outputs": [
    {
     "ename": "SyntaxError",
     "evalue": "invalid syntax (2734109624.py, line 3)",
     "output_type": "error",
     "traceback": [
      "\u001b[1;36m  Cell \u001b[1;32mIn[117], line 3\u001b[1;36m\u001b[0m\n\u001b[1;33m    print(s\"수정 전 : {s[5]}\")\u001b[0m\n\u001b[1;37m           ^\u001b[0m\n\u001b[1;31mSyntaxError\u001b[0m\u001b[1;31m:\u001b[0m invalid syntax\n"
     ]
    }
   ],
   "source": [
    "print(s)\n",
    "# 리스트 수정\n",
    "print(s\"수정 전 : {s[5]}\")\n",
    "s[5] = 10\n",
    "print(s\"수정 후 : {s[5]}\")"
   ]
  },
  {
   "cell_type": "code",
   "execution_count": 120,
   "id": "3ec7c353",
   "metadata": {},
   "outputs": [
    {
     "data": {
      "text/plain": [
       "[3, 4, 5, 6]"
      ]
     },
     "execution_count": 120,
     "metadata": {},
     "output_type": "execute_result"
    }
   ],
   "source": [
    "list10 = [0,1,2,3,4,5,6,7,8,9]\n",
    "list10[3:7]"
   ]
  },
  {
   "cell_type": "code",
   "execution_count": 1,
   "id": "6790608f",
   "metadata": {},
   "outputs": [
    {
     "data": {
      "text/plain": [
       "[0, 1, 2, 10, 7, 8, 9]"
      ]
     },
     "execution_count": 1,
     "metadata": {},
     "output_type": "execute_result"
    }
   ],
   "source": [
    "# 여러 개의 값을 바꿔보자 - 슬라이싱을 이용하자\n",
    "list10 = [0,1,2,3,4,5,6,7,8,9]\n",
    "list10[3 : 7] = [10]\n",
    "list10"
   ]
  },
  {
   "cell_type": "code",
   "execution_count": 121,
   "id": "c9c27fa6",
   "metadata": {},
   "outputs": [
    {
     "data": {
      "text/plain": [
       "[0, 1, 2, 10, 10, 10, 10, 7, 8, 9]"
      ]
     },
     "execution_count": 121,
     "metadata": {},
     "output_type": "execute_result"
    }
   ],
   "source": [
    "list10 = [0,1,2,3,4,5,6,7,8,9]\n",
    "list10[3 : 7] = [10, 10, 10, 10]\n",
    "list10"
   ]
  },
  {
   "cell_type": "code",
   "execution_count": 142,
   "id": "34035e52",
   "metadata": {},
   "outputs": [
    {
     "data": {
      "text/plain": [
       "[1, 2, 3, 4, 5]"
      ]
     },
     "execution_count": 142,
     "metadata": {},
     "output_type": "execute_result"
    }
   ],
   "source": [
    "array = [1,2,3,4,5]\n",
    "array"
   ]
  },
  {
   "cell_type": "code",
   "execution_count": 143,
   "id": "79f34d8f",
   "metadata": {},
   "outputs": [
    {
     "data": {
      "text/plain": [
       "[1, 2, 3, 4, 7]"
      ]
     },
     "execution_count": 143,
     "metadata": {},
     "output_type": "execute_result"
    }
   ],
   "source": [
    "# 하나의 값을 하나로 수정\n",
    "array[4] = 7\n",
    "array"
   ]
  },
  {
   "cell_type": "code",
   "execution_count": 144,
   "id": "d270e11b",
   "metadata": {},
   "outputs": [
    {
     "data": {
      "text/plain": [
       "[1, ['a', 'b', 'c'], 3, 4, 7]"
      ]
     },
     "execution_count": 144,
     "metadata": {},
     "output_type": "execute_result"
    }
   ],
   "source": [
    "# 하나의 값을 리스트로 수정\n",
    "array[1] = ['a', 'b', 'c']\n",
    "array"
   ]
  },
  {
   "cell_type": "code",
   "execution_count": 145,
   "id": "25551342",
   "metadata": {},
   "outputs": [
    {
     "data": {
      "text/plain": [
       "[1, ['a', 'b', 'c'], 3, 'd', 'e', 'f', 'g']"
      ]
     },
     "execution_count": 145,
     "metadata": {},
     "output_type": "execute_result"
    }
   ],
   "source": [
    "# 여러 개의 값을 여러 개로 수정\n",
    "# -> 슬라이싱 이용\n",
    "array[3 : ] = 'd', 'e', 'f', 'g'\n",
    "array"
   ]
  },
  {
   "cell_type": "code",
   "execution_count": 146,
   "id": "06a08ef2",
   "metadata": {},
   "outputs": [
    {
     "data": {
      "text/plain": [
       "['h', 'i', 'j', ['a', 'b', 'c'], 3, 'd', 'e', 'f', 'g']"
      ]
     },
     "execution_count": 146,
     "metadata": {},
     "output_type": "execute_result"
    }
   ],
   "source": [
    "# 하나의 값을 여러 개로 수정\n",
    "array[0] = 'h'\n",
    "array.insert(1, 'i')\n",
    "array.insert(2, 'j')\n",
    "array"
   ]
  },
  {
   "cell_type": "code",
   "execution_count": 147,
   "id": "257c5949",
   "metadata": {},
   "outputs": [
    {
     "data": {
      "text/plain": [
       "['h', 'i', 'j', 'i', 'j', ['a', 'b', 'c'], 3, 'd', 'e', 'f', 'g']"
      ]
     },
     "execution_count": 147,
     "metadata": {},
     "output_type": "execute_result"
    }
   ],
   "source": [
    "array[0:1] = ['h', 'i', 'j']\n",
    "array"
   ]
  },
  {
   "cell_type": "code",
   "execution_count": 149,
   "id": "34da92a5",
   "metadata": {},
   "outputs": [
    {
     "data": {
      "text/plain": [
       "[0, 1, 2, 4, 5]"
      ]
     },
     "execution_count": 149,
     "metadata": {},
     "output_type": "execute_result"
    }
   ],
   "source": [
    "# 리스트 값 삭제\n",
    "list11 = [0,1,2,3,4,5]\n",
    "# del 키워드 사용\n",
    "del list11[3] # 인덱스 번호 넣어주기\n",
    "list11"
   ]
  },
  {
   "cell_type": "code",
   "execution_count": 152,
   "id": "b483ef10",
   "metadata": {},
   "outputs": [],
   "source": [
    "# 리스트 값 삭제(여러개의 값)\n",
    "list11 = [0,1,2,3,4,5]"
   ]
  },
  {
   "cell_type": "code",
   "execution_count": 153,
   "id": "8b5ae6d0",
   "metadata": {},
   "outputs": [
    {
     "data": {
      "text/plain": [
       "[0, 5]"
      ]
     },
     "execution_count": 153,
     "metadata": {},
     "output_type": "execute_result"
    }
   ],
   "source": [
    "del list11[1 : 5]\n",
    "list11"
   ]
  },
  {
   "cell_type": "code",
   "execution_count": 154,
   "id": "13730b61",
   "metadata": {},
   "outputs": [
    {
     "data": {
      "text/plain": [
       "['a', 'b', 'd', 'e']"
      ]
     },
     "execution_count": 154,
     "metadata": {},
     "output_type": "execute_result"
    }
   ],
   "source": [
    "# 값을 가지고 삭제 하는 방법 - remove()\n",
    "list12 = ['a', 'b', 'c', 'd', 'e']\n",
    "list12.remove('c') # 처음 만나는 해당 값을 지우고 되돌려준다.\n",
    "list12"
   ]
  },
  {
   "cell_type": "code",
   "execution_count": 155,
   "id": "fdffcc2b",
   "metadata": {},
   "outputs": [
    {
     "data": {
      "text/plain": [
       "[1, 7, 13, 27, 32, 45]"
      ]
     },
     "execution_count": 155,
     "metadata": {},
     "output_type": "execute_result"
    }
   ],
   "source": [
    "# 정렬 - sort() : 오름차순 정렬\n",
    "list13 = [13, 27, 1, 32, 45, 7]\n",
    "list13.sort()\n",
    "list13"
   ]
  },
  {
   "cell_type": "code",
   "execution_count": 156,
   "id": "3d45129c",
   "metadata": {},
   "outputs": [
    {
     "data": {
      "text/plain": [
       "[7, 45, 32, 1, 27, 13]"
      ]
     },
     "execution_count": 156,
     "metadata": {},
     "output_type": "execute_result"
    }
   ],
   "source": [
    "# 리스트를 반대로 뒤집는 함수 - reverse()\n",
    "list13 = [13, 27, 1, 32, 45, 7]\n",
    "list13.reverse()\n",
    "list13"
   ]
  },
  {
   "cell_type": "code",
   "execution_count": 162,
   "id": "f494140e",
   "metadata": {},
   "outputs": [
    {
     "data": {
      "text/plain": [
       "[45, 32, 27, 13, 7, 1]"
      ]
     },
     "execution_count": 162,
     "metadata": {},
     "output_type": "execute_result"
    }
   ],
   "source": [
    "# 내림차순 정렬을 진행해보자\n",
    "list13 = [13, 27, 1, 32, 45, 7]\n",
    "list13.sort(reverse=True)\n",
    "list13"
   ]
  },
  {
   "cell_type": "code",
   "execution_count": 167,
   "id": "71450687",
   "metadata": {},
   "outputs": [],
   "source": [
    "# 리스트 값 위치 출력 / 제거 \n",
    "list14 = ['a', 'b', 'c', 'd', 'e']"
   ]
  },
  {
   "cell_type": "code",
   "execution_count": 168,
   "id": "73fa02c8",
   "metadata": {},
   "outputs": [
    {
     "data": {
      "text/plain": [
       "2"
      ]
     },
     "execution_count": 168,
     "metadata": {},
     "output_type": "execute_result"
    }
   ],
   "source": [
    "# 리스트 내부에 위치한 자료의 인덱스를 확인하는 방법\n",
    "list14.index('c')"
   ]
  },
  {
   "cell_type": "code",
   "execution_count": 169,
   "id": "215a08d0",
   "metadata": {},
   "outputs": [
    {
     "data": {
      "text/plain": [
       "'e'"
      ]
     },
     "execution_count": 169,
     "metadata": {},
     "output_type": "execute_result"
    }
   ],
   "source": [
    "# pop() : 마지막 값을 출력 후 리스트에서 제거\n",
    "list14.pop()"
   ]
  },
  {
   "cell_type": "code",
   "execution_count": 170,
   "id": "ab01f84b",
   "metadata": {},
   "outputs": [
    {
     "data": {
      "text/plain": [
       "['a', 'b', 'c', 'd']"
      ]
     },
     "execution_count": 170,
     "metadata": {},
     "output_type": "execute_result"
    }
   ],
   "source": [
    "list14"
   ]
  },
  {
   "cell_type": "code",
   "execution_count": 172,
   "id": "19dc6962",
   "metadata": {},
   "outputs": [
    {
     "data": {
      "text/plain": [
       "4"
      ]
     },
     "execution_count": 172,
     "metadata": {},
     "output_type": "execute_result"
    }
   ],
   "source": [
    "# len(리스트) : 리스트 내부의 값 개수를 출력할 때 사용\n",
    "# 반복문의 범위를 정하거나 리스트 내부의 데이터 개수를 체크할 때 사용\n",
    "len(list14)"
   ]
  },
  {
   "cell_type": "code",
   "execution_count": 174,
   "id": "f0edcc69",
   "metadata": {},
   "outputs": [
    {
     "name": "stdout",
     "output_type": "stream",
     "text": [
      "a\n",
      "b\n",
      "c\n",
      "d\n"
     ]
    }
   ],
   "source": [
    "for i in range(len(list14)) : \n",
    "    print(list14[i])"
   ]
  },
  {
   "cell_type": "code",
   "execution_count": null,
   "id": "d3ad6389",
   "metadata": {},
   "outputs": [],
   "source": [
    "#튜플"
   ]
  },
  {
   "cell_type": "code",
   "execution_count": 181,
   "id": "4a3b923d",
   "metadata": {},
   "outputs": [
    {
     "name": "stdout",
     "output_type": "stream",
     "text": [
      "()\n",
      "(1, 2, 3)\n",
      "('My', 'name', 'is', 'MH')\n",
      "(1, 2, 'My', 'name')\n"
     ]
    },
    {
     "data": {
      "text/plain": [
       "(1, 2, ('My', 'name'))"
      ]
     },
     "execution_count": 181,
     "metadata": {},
     "output_type": "execute_result"
    }
   ],
   "source": [
    "a = ()\n",
    "print(a)\n",
    "b = (1,2,3)\n",
    "print(b)\n",
    "c = ('My', 'name', 'is', 'MH')\n",
    "print(c)\n",
    "d = (1,2, 'My', 'name')\n",
    "print(d)\n",
    "e= (1,2, ('My', \"name\"))\n",
    "e"
   ]
  },
  {
   "cell_type": "code",
   "execution_count": 182,
   "id": "02a64489",
   "metadata": {},
   "outputs": [
    {
     "data": {
      "text/plain": [
       "2"
      ]
     },
     "execution_count": 182,
     "metadata": {},
     "output_type": "execute_result"
    }
   ],
   "source": [
    "b[1]"
   ]
  },
  {
   "cell_type": "code",
   "execution_count": 184,
   "id": "ff890376",
   "metadata": {},
   "outputs": [
    {
     "data": {
      "text/plain": [
       "(2, 3)"
      ]
     },
     "execution_count": 184,
     "metadata": {},
     "output_type": "execute_result"
    }
   ],
   "source": [
    "b[1:3]"
   ]
  },
  {
   "cell_type": "code",
   "execution_count": 185,
   "id": "0d493511",
   "metadata": {},
   "outputs": [
    {
     "data": {
      "text/plain": [
       "3"
      ]
     },
     "execution_count": 185,
     "metadata": {},
     "output_type": "execute_result"
    }
   ],
   "source": [
    "len(b)"
   ]
  },
  {
   "cell_type": "code",
   "execution_count": null,
   "id": "fad0bc7a",
   "metadata": {},
   "outputs": [],
   "source": [
    "# in() - 찾고자 하는 값(x)가 포함되어 있을 때 포함이 되면 True\n",
    "#      - 아니면 False\n",
    "# not in() - 찾고자 하는 값(x)가 포함되어 있을 때 포함이 되면 False\n",
    "#      -  아니면 True"
   ]
  },
  {
   "cell_type": "code",
   "execution_count": 187,
   "id": "f5f5a63a",
   "metadata": {},
   "outputs": [],
   "source": [
    "str1 = '마지막 시간입니다. 여러분들 고생하셨어요'"
   ]
  },
  {
   "cell_type": "code",
   "execution_count": 188,
   "id": "f7d6b51d",
   "metadata": {},
   "outputs": [
    {
     "data": {
      "text/plain": [
       "True"
      ]
     },
     "execution_count": 188,
     "metadata": {},
     "output_type": "execute_result"
    }
   ],
   "source": [
    "'마지막' in str1"
   ]
  },
  {
   "cell_type": "code",
   "execution_count": 189,
   "id": "5776139c",
   "metadata": {},
   "outputs": [
    {
     "data": {
      "text/plain": [
       "False"
      ]
     },
     "execution_count": 189,
     "metadata": {},
     "output_type": "execute_result"
    }
   ],
   "source": [
    "'첫 시간' in str1"
   ]
  },
  {
   "cell_type": "code",
   "execution_count": 190,
   "id": "8d0c371e",
   "metadata": {},
   "outputs": [
    {
     "data": {
      "text/plain": [
       "[45, 32, 27, 13, 7, 1]"
      ]
     },
     "execution_count": 190,
     "metadata": {},
     "output_type": "execute_result"
    }
   ],
   "source": [
    "list13"
   ]
  },
  {
   "cell_type": "code",
   "execution_count": 195,
   "id": "5a10e852",
   "metadata": {},
   "outputs": [
    {
     "data": {
      "text/plain": [
       "False"
      ]
     },
     "execution_count": 195,
     "metadata": {},
     "output_type": "execute_result"
    }
   ],
   "source": [
    "45 not in list13"
   ]
  },
  {
   "cell_type": "code",
   "execution_count": 212,
   "id": "6f079ba2",
   "metadata": {},
   "outputs": [
    {
     "name": "stdout",
     "output_type": "stream",
     "text": [
      "글 >>요\n",
      "요는(은) 2번 들어있네요\n"
     ]
    }
   ],
   "source": [
    "# 문자열에 사용자가 입력한 글자가 몇 개 포함되어있는지 출력을 해주세요\n",
    "s2 = '오늘은 금요일입니다. 주말이 얼마 남지 않았어요 '\n",
    "# 입력문 받기\n",
    "a = input(\"글 >>\")\n",
    "b = s2.count(a)\n",
    "# 우리가 지정한 문장에서 입력받은 글자가 몇 개 있는지 체크하셈\n",
    "# 조건문\n",
    "if a in s2  :       \n",
    "    print(f\"{a}는(은) {b}번 들어있네요\")\n",
    "else :\n",
    "    print(f\"{a}는(은) 들어있지 않네유,,,,\")"
   ]
  },
  {
   "cell_type": "code",
   "execution_count": 208,
   "id": "2fde1f03",
   "metadata": {},
   "outputs": [
    {
     "data": {
      "text/plain": [
       "True"
      ]
     },
     "execution_count": 208,
     "metadata": {},
     "output_type": "execute_result"
    }
   ],
   "source": [
    "a in s2"
   ]
  },
  {
   "cell_type": "code",
   "execution_count": null,
   "id": "4ee59379",
   "metadata": {},
   "outputs": [],
   "source": []
  }
 ],
 "metadata": {
  "kernelspec": {
   "display_name": "Python 3 (ipykernel)",
   "language": "python",
   "name": "python3"
  },
  "language_info": {
   "codemirror_mode": {
    "name": "ipython",
    "version": 3
   },
   "file_extension": ".py",
   "mimetype": "text/x-python",
   "name": "python",
   "nbconvert_exporter": "python",
   "pygments_lexer": "ipython3",
   "version": "3.11.5"
  }
 },
 "nbformat": 4,
 "nbformat_minor": 5
}
