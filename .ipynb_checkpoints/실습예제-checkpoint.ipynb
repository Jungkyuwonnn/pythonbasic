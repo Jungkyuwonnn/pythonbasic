{
 "cells": [
  {
   "cell_type": "code",
   "execution_count": 37,
   "id": "a4ce4507",
   "metadata": {},
   "outputs": [
    {
     "name": "stdout",
     "output_type": "stream",
     "text": [
      "* \n",
      "* * \n",
      "* * * \n",
      "* * * * \n",
      "* * * * * \n",
      "* * * * * * \n"
     ]
    }
   ],
   "source": [
    "for i in range(1, 7):\n",
    "    for z in range(0,i):    \n",
    "        print(\"*\", end=\" \")\n",
    "    print()"
   ]
  },
  {
   "cell_type": "code",
   "execution_count": 40,
   "id": "7e01c040",
   "metadata": {},
   "outputs": [
    {
     "name": "stdout",
     "output_type": "stream",
     "text": [
      "줄 수 입력 >> 7\n",
      "* \n",
      "* * \n",
      "* * * \n",
      "* * * * \n",
      "* * * * * \n",
      "* * * * * * \n",
      "* * * * * * * \n"
     ]
    }
   ],
   "source": [
    "num = int(input(\"줄 수 입력 >> \"))\n",
    "for i in range(1, num+1) :\n",
    "    for z in range(0, i) :\n",
    "        print(\"*\", end = \" \")\n",
    "    print()"
   ]
  },
  {
   "cell_type": "code",
   "execution_count": 51,
   "id": "bbb793fe",
   "metadata": {},
   "outputs": [
    {
     "name": "stdout",
     "output_type": "stream",
     "text": [
      "* * * * * \n",
      "* * * * * \n",
      "* * * * * \n",
      "* * * * * \n",
      "* * * * * \n",
      "****\n",
      "****\n",
      "****\n",
      "****\n",
      "****\n",
      "****\n"
     ]
    }
   ],
   "source": [
    "for i in range(1, 12):\n",
    "    if i <= 5 :\n",
    "        for z in range(0,5):    \n",
    "            print(\"*\", end=\" \")\n",
    "        print()\n",
    "    else :\n",
    "        for y in range(7, 11):\n",
    "            print(\"*\", end=\"\")\n",
    "        print()\n",
    "    "
   ]
  },
  {
   "cell_type": "code",
   "execution_count": 55,
   "id": "f7c8f705",
   "metadata": {},
   "outputs": [
    {
     "name": "stdout",
     "output_type": "stream",
     "text": [
      "첫 번째 정수 입력 >> 10\n",
      "두 번째 정수 입력 >> 30\n",
      "10 11 12 13 14 15 16 17 18 19 20 21 22 23 24 25 26 27 28 29 30 "
     ]
    }
   ],
   "source": [
    "start = int(input(\"첫 번째 정수 입력 >> \"))\n",
    "end = int(input(\"두 번째 정수 입력 >> \"))\n",
    "for i in range(start, end+1):\n",
    "    print(start, end= \" \")\n",
    "    start+=1"
   ]
  },
  {
   "cell_type": "code",
   "execution_count": null,
   "id": "5f13b0a9",
   "metadata": {},
   "outputs": [],
   "source": []
  },
  {
   "cell_type": "code",
   "execution_count": 25,
   "id": "ba0f83f3",
   "metadata": {},
   "outputs": [
    {
     "name": "stdout",
     "output_type": "stream",
     "text": [
      ".nohtyp deen uoY, trohs oot si efiL\n",
      ".nohtyp deen uoY, trohs oot si efiL\n",
      ".nohtyp deen uoY, trohs oot si efiL\n",
      ".nohtyp deen uoY, trohs oot si efiL\n",
      ".nohtyp deen uoY, trohs oot si efiL\n",
      ".nohtyp deen uoY, trohs oot si efiL\n",
      ".nohtyp deen uoY, trohs oot si efiL\n",
      ".nohtyp deen uoY, trohs oot si efiL\n",
      ".nohtyp deen uoY, trohs oot si efiL\n",
      ".nohtyp deen uoY, trohs oot si efiL\n",
      ".nohtyp deen uoY, trohs oot si efiL\n",
      ".nohtyp deen uoY, trohs oot si efiL\n",
      ".nohtyp deen uoY, trohs oot si efiL\n",
      ".nohtyp deen uoY, trohs oot si efiL\n",
      ".nohtyp deen uoY, trohs oot si efiL\n",
      ".nohtyp deen uoY, trohs oot si efiL\n",
      ".nohtyp deen uoY, trohs oot si efiL\n",
      ".nohtyp deen uoY, trohs oot si efiL\n",
      ".nohtyp deen uoY, trohs oot si efiL\n",
      ".nohtyp deen uoY, trohs oot si efiL\n",
      ".nohtyp deen uoY, trohs oot si efiL\n",
      ".nohtyp deen uoY, trohs oot si efiL\n",
      ".nohtyp deen uoY, trohs oot si efiL\n",
      ".nohtyp deen uoY, trohs oot si efiL\n",
      ".nohtyp deen uoY, trohs oot si efiL\n",
      ".nohtyp deen uoY, trohs oot si efiL\n",
      ".nohtyp deen uoY, trohs oot si efiL\n",
      ".nohtyp deen uoY, trohs oot si efiL\n",
      ".nohtyp deen uoY, trohs oot si efiL\n",
      ".nohtyp deen uoY, trohs oot si efiL\n",
      ".nohtyp deen uoY, trohs oot si efiL\n",
      ".nohtyp deen uoY, trohs oot si efiL\n",
      ".nohtyp deen uoY, trohs oot si efiL\n",
      ".nohtyp deen uoY, trohs oot si efiL\n",
      ".nohtyp deen uoY, trohs oot si efiL\n"
     ]
    }
   ],
   "source": [
    "s=\".nohtyp deen uoY, trohs oot si efiL\"\n",
    "for i in range(len(s)):\n",
    "    \n",
    "    "
   ]
  },
  {
   "cell_type": "code",
   "execution_count": 31,
   "id": "280e0620",
   "metadata": {},
   "outputs": [
    {
     "ename": "SyntaxError",
     "evalue": "positional argument follows keyword argument (33178003.py, line 3)",
     "output_type": "error",
     "traceback": [
      "\u001b[1;36m  Cell \u001b[1;32mIn[31], line 3\u001b[1;36m\u001b[0m\n\u001b[1;33m    print(f\"{i}*{x}={(i*x)}\", end=\" \", \"\\t\")\u001b[0m\n\u001b[1;37m                                           ^\u001b[0m\n\u001b[1;31mSyntaxError\u001b[0m\u001b[1;31m:\u001b[0m positional argument follows keyword argument\n"
     ]
    }
   ],
   "source": [
    "for i in range(2,10):\n",
    "    for x in range(1, 10):\n",
    "        print(f\"{i}*{x}={(i*x)}\", end=\" \")\n",
    "    print()"
   ]
  },
  {
   "cell_type": "code",
   "execution_count": 3,
   "id": "18bb6bcb",
   "metadata": {},
   "outputs": [
    {
     "name": "stdout",
     "output_type": "stream",
     "text": [
      "2*1=2  3*1=3  4*1=4  5*1=5  6*1=6  7*1=7  8*1=8  9*1=9  \n",
      "2*2=4  3*2=6  4*2=8  5*2=10  6*2=12  7*2=14  8*2=16  9*2=18  \n",
      "2*3=6  3*3=9  4*3=12  5*3=15  6*3=18  7*3=21  8*3=24  9*3=27  \n",
      "2*4=8  3*4=12  4*4=16  5*4=20  6*4=24  7*4=28  8*4=32  9*4=36  \n",
      "2*5=10  3*5=15  4*5=20  5*5=25  6*5=30  7*5=35  8*5=40  9*5=45  \n",
      "2*6=12  3*6=18  4*6=24  5*6=30  6*6=36  7*6=42  8*6=48  9*6=54  \n",
      "2*7=14  3*7=21  4*7=28  5*7=35  6*7=42  7*7=49  8*7=56  9*7=63  \n",
      "2*8=16  3*8=24  4*8=32  5*8=40  6*8=48  7*8=56  8*8=64  9*8=72  \n",
      "2*9=18  3*9=27  4*9=36  5*9=45  6*9=54  7*9=63  8*9=72  9*9=81  \n"
     ]
    }
   ],
   "source": [
    "for i in range(1,10):\n",
    "    for x in range(2, 10):\n",
    "        print(f\"{x}*{i}={(x*i)}\", end = \"  \")\n",
    "    print()"
   ]
  },
  {
   "cell_type": "code",
   "execution_count": 17,
   "id": "25d6d4a7",
   "metadata": {},
   "outputs": [
    {
     "name": "stdout",
     "output_type": "stream",
     "text": [
      "짝수 1개 "
     ]
    },
    {
     "ename": "IndexError",
     "evalue": "list index out of range",
     "output_type": "error",
     "traceback": [
      "\u001b[1;31m---------------------------------------------------------------------------\u001b[0m",
      "\u001b[1;31mIndexError\u001b[0m                                Traceback (most recent call last)",
      "Cell \u001b[1;32mIn[17], line 5\u001b[0m\n\u001b[0;32m      2\u001b[0m cnt \u001b[38;5;241m=\u001b[39m \u001b[38;5;241m0\u001b[39m\n\u001b[0;32m      4\u001b[0m \u001b[38;5;28;01mfor\u001b[39;00m i \u001b[38;5;129;01min\u001b[39;00m list1:    \n\u001b[1;32m----> 5\u001b[0m     \u001b[38;5;28;01mif\u001b[39;00m list1[i]\u001b[38;5;241m%\u001b[39m\u001b[38;5;241m2\u001b[39m\u001b[38;5;241m==\u001b[39m\u001b[38;5;241m0\u001b[39m:\n\u001b[0;32m      6\u001b[0m         cnt\u001b[38;5;241m+\u001b[39m\u001b[38;5;241m=\u001b[39m\u001b[38;5;241m1\u001b[39m\n\u001b[0;32m      7\u001b[0m         \u001b[38;5;28mprint\u001b[39m(\u001b[38;5;124mf\u001b[39m\u001b[38;5;124m\"\u001b[39m\u001b[38;5;124m짝수 \u001b[39m\u001b[38;5;132;01m{\u001b[39;00mcnt\u001b[38;5;132;01m}\u001b[39;00m\u001b[38;5;124m개\u001b[39m\u001b[38;5;124m\"\u001b[39m, end\u001b[38;5;241m=\u001b[39m\u001b[38;5;124m\"\u001b[39m\u001b[38;5;124m \u001b[39m\u001b[38;5;124m\"\u001b[39m)\n",
      "\u001b[1;31mIndexError\u001b[0m: list index out of range"
     ]
    }
   ],
   "source": [
    "list1 = [1,30,7,9,17,3,5,23,44]\n",
    "cnt = 0\n",
    "\n",
    "for i in list1:    \n",
    "    if list1[i]%2==0:\n",
    "        cnt+=1\n",
    "        print(f\"짝수 {cnt}개\", end=\" \")\n",
    "    else :\n",
    "        cnt+=1\n",
    "        print(f\"홀수 {cnt}개\", end=\" \")\n",
    "  "
   ]
  },
  {
   "cell_type": "code",
   "execution_count": null,
   "id": "2d5453ce",
   "metadata": {},
   "outputs": [],
   "source": [
    "score_list = "
   ]
  },
  {
   "cell_type": "code",
   "execution_count": null,
   "id": "482b5ef3",
   "metadata": {},
   "outputs": [],
   "source": []
  },
  {
   "cell_type": "code",
   "execution_count": null,
   "id": "20523dd1",
   "metadata": {},
   "outputs": [],
   "source": []
  },
  {
   "cell_type": "code",
   "execution_count": null,
   "id": "f11a8fd5",
   "metadata": {},
   "outputs": [],
   "source": []
  },
  {
   "cell_type": "code",
   "execution_count": null,
   "id": "4252a51a",
   "metadata": {},
   "outputs": [],
   "source": []
  },
  {
   "cell_type": "code",
   "execution_count": null,
   "id": "942415b6",
   "metadata": {},
   "outputs": [],
   "source": []
  },
  {
   "cell_type": "code",
   "execution_count": null,
   "id": "5eeec3b9",
   "metadata": {},
   "outputs": [],
   "source": []
  }
 ],
 "metadata": {
  "kernelspec": {
   "display_name": "Python 3 (ipykernel)",
   "language": "python",
   "name": "python3"
  },
  "language_info": {
   "codemirror_mode": {
    "name": "ipython",
    "version": 3
   },
   "file_extension": ".py",
   "mimetype": "text/x-python",
   "name": "python",
   "nbconvert_exporter": "python",
   "pygments_lexer": "ipython3",
   "version": "3.11.5"
  }
 },
 "nbformat": 4,
 "nbformat_minor": 5
}
