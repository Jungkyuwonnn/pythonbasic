{
 "cells": [
  {
   "cell_type": "code",
   "execution_count": 6,
   "id": "7ce8fdb4",
   "metadata": {},
   "outputs": [
    {
     "name": "stdout",
     "output_type": "stream",
     "text": [
      "파이썬 최고!! 1번째\n",
      "파이썬 최고!! 2번째\n",
      "파이썬 최고!! 3번째\n",
      "파이썬 최고!! 4번째\n",
      "파이썬 최고!! 5번째\n",
      "파이썬 최고!! 6번째\n",
      "파이썬 최고!! 7번째\n",
      "파이썬 최고!! 8번째\n",
      "파이썬 최고!! 9번째\n",
      "파이썬 최고!! 10번째\n"
     ]
    }
   ],
   "source": [
    "# while문을 사용해서 '파이썬 최고!!'를 10번 출력하기\n",
    "i = 1\n",
    "while i<=10:\n",
    "    print(f\"파이썬 최고!! {i}번째\")\n",
    "    i+=1"
   ]
  },
  {
   "cell_type": "code",
   "execution_count": 7,
   "id": "9ff64e3a",
   "metadata": {},
   "outputs": [
    {
     "name": "stdout",
     "output_type": "stream",
     "text": [
      "무한루프\n"
     ]
    }
   ],
   "source": [
    "while True :\n",
    "    print('무한루프')\n",
    "    break"
   ]
  },
  {
   "cell_type": "code",
   "execution_count": 8,
   "id": "271fde5a",
   "metadata": {},
   "outputs": [
    {
     "name": "stdout",
     "output_type": "stream",
     "text": [
      "1\n",
      "2\n",
      "3\n"
     ]
    }
   ],
   "source": [
    "num = 1\n",
    "\n",
    "while True : \n",
    "    print(num)\n",
    "    num += 1\n",
    "    if num > 3 :\n",
    "        break"
   ]
  },
  {
   "cell_type": "code",
   "execution_count": 13,
   "id": "073284de",
   "metadata": {},
   "outputs": [
    {
     "name": "stdout",
     "output_type": "stream",
     "text": [
      "이름을 입력하세요 >>정규원\n",
      "정규원 최고! \n",
      "이름을 입력하세요 >>강아람\n",
      "아파서 속상해요ㅠㅠ\n"
     ]
    }
   ],
   "source": [
    "# while문 활용 문제\n",
    "# while문을 활용해서 이름을 입력받고 \n",
    "# 입력받은 이름 최고!라고 출력\n",
    "# 단, 입려받은 이름이 강아람이면 아파서 속상해요라고 출력 후 while문 종료\n",
    "\n",
    "while True :\n",
    "    name = input(\"이름을 입력하세요 >>\")\n",
    "    if name=='강아람':\n",
    "        print(\"아파서 속상해요ㅠㅠ\")\n",
    "        break\n",
    "    print(f\"{name} 최고! \")"
   ]
  },
  {
   "cell_type": "code",
   "execution_count": 17,
   "id": "7e8f3bf4",
   "metadata": {},
   "outputs": [
    {
     "name": "stdout",
     "output_type": "stream",
     "text": [
      "첫 번째 정수 입력 >> 13\n",
      "두 번째 정수 입력 >> 77\n",
      "두 정수의 합 : 90 \n",
      "첫 번째 정수 입력 >> 0\n",
      "두 번째 정수 입력 >> 0\n",
      "프로그램이 종료되었습니다.\n"
     ]
    }
   ],
   "source": [
    "while True :\n",
    "    num1 = int(input(\"첫 번째 정수 입력 >> \"))\n",
    "    num2 = int(input(\"두 번째 정수 입력 >> \"))\n",
    "    sum1 = num1 + num2\n",
    "    \n",
    "    if num1 == 0 and num2 == 0 :\n",
    "        print('프로그램이 종료되었습니다.')\n",
    "        break\n",
    "        \n",
    "    print(f\"두 정수의 합 : {sum1} \")"
   ]
  },
  {
   "cell_type": "code",
   "execution_count": 22,
   "id": "e606f400",
   "metadata": {},
   "outputs": [
    {
     "name": "stdout",
     "output_type": "stream",
     "text": [
      "현재 몸무게 : 80\n",
      "목표 몸무게 : 70\n",
      "1주차 감량 몸무게 : 2\n",
      "2주차 감량 몸무게 : 3\n",
      "3주차 감량 몸무게 : 4\n",
      "4주차 감량 몸무게 : 5\n",
      "66 kg 달성 !! 축하합니다!\n"
     ]
    }
   ],
   "source": [
    "now = int(input(\"현재 몸무게 : \"))\n",
    "goal = int(input(\"목표 몸무게 : \"))\n",
    "time = 1\n",
    "while True :\n",
    "   \n",
    "    lose = int(input(f\"{time}주차 감량 몸무게 : \"))\n",
    "    time += 1\n",
    "    now = now - lose\n",
    "    \n",
    "    if now <= goal :\n",
    "        print(f\"{now} kg 달성 !! 축하합니다!\")\n",
    "        break"
   ]
  },
  {
   "cell_type": "code",
   "execution_count": 25,
   "id": "d26a31c9",
   "metadata": {},
   "outputs": [
    {
     "name": "stdout",
     "output_type": "stream",
     "text": [
      "숫자를 입력하세요 >> 50\n",
      "50보다 큰 수 입니다. \n",
      "숫자를 입력하세요 >> 80\n",
      "80보다 큰 수 입니다. \n",
      "숫자를 입력하세요 >> 90\n",
      "정답 !!!\n"
     ]
    }
   ],
   "source": [
    "# up down 게임 만들기\n",
    "import random \n",
    "\n",
    "num = random.randint(1, 100)\n",
    "\n",
    "while True :\n",
    "    a = int(input('숫자를 입력하세요 >> '))\n",
    "    \n",
    "    if num > a :\n",
    "        print(f\"{a}보다 큰 수 입니다. \")\n",
    "    elif num < a :\n",
    "        print(f\"{a}보다 작은 수 입니다. \")\n",
    "    else :\n",
    "        print('정답 !!!')\n",
    "        break"
   ]
  },
  {
   "cell_type": "code",
   "execution_count": 26,
   "id": "6bc77c5b",
   "metadata": {},
   "outputs": [
    {
     "name": "stdout",
     "output_type": "stream",
     "text": [
      "안\n",
      "녕\n",
      "하\n",
      "세\n",
      "요\n"
     ]
    }
   ],
   "source": [
    "hi = \"안녕하세요\"\n",
    "for s in hi: \n",
    "    print(s)"
   ]
  },
  {
   "cell_type": "code",
   "execution_count": 42,
   "id": "a9fbce35",
   "metadata": {},
   "outputs": [
    {
     "name": "stdout",
     "output_type": "stream",
     "text": [
      "1번 학생은 합격 입니다.\n",
      "2번 학생은 불합격 입니다.\n",
      "3번 학생은 합격 입니다.\n",
      "4번 학생은 합격 입니다.\n",
      "5번 학생은 불합격 입니다.\n"
     ]
    }
   ],
   "source": [
    "score_list = [90, 45, 70, 60, 55]\n",
    "cnt = 0\n",
    "\n",
    "for i in score_list :\n",
    "    cnt += 1\n",
    "    if i >= 60:\n",
    "         print(f\"{cnt}번 학생은 합격 입니다.\")\n",
    "    else :\n",
    "         print(f\"{cnt}번 학생은 불합격 입니다.\")"
   ]
  },
  {
   "cell_type": "code",
   "execution_count": 47,
   "id": "132c00ba",
   "metadata": {},
   "outputs": [
    {
     "name": "stdout",
     "output_type": "stream",
     "text": [
      "1번은 57점 이며, C등급 입니다. \n",
      "2번은 86점 이며, A등급 입니다. \n",
      "3번은 64점 이며, B등급 입니다. \n",
      "4번은 92점 이며, A등급 입니다. \n",
      "5번은 35점 이며, C등급 입니다. \n",
      "6번은 79점 이며, B등급 입니다. \n"
     ]
    }
   ],
   "source": [
    "python_score = [57, 86, 64, 92, 35, 79]\n",
    "cnt = 0\n",
    "num = 1\n",
    "for i in range(len(python_score)) :\n",
    "    cnt += 1\n",
    "    if python_score[i] >= 80 :\n",
    "        grade = \"A\"\n",
    "    elif python_score[i] >= 60 :\n",
    "        grade = 'B'\n",
    "    else :\n",
    "        grade = 'C'\n",
    "        \n",
    "    print(f\"{cnt}번은 {python_score[i]}점 이며, {grade}등급 입니다. \")"
   ]
  },
  {
   "cell_type": "code",
   "execution_count": 55,
   "id": "a4167360",
   "metadata": {},
   "outputs": [
    {
     "name": "stdout",
     "output_type": "stream",
     "text": [
      "1번은 57점 이며, C등급 입니다. \n",
      "2번은 86점 이며, A등급 입니다. \n",
      "3번은 64점 이며, B등급 입니다. \n",
      "4번은 92점 이며, A등급 입니다. \n",
      "5번은 35점 이며, C등급 입니다. \n",
      "6번은 79점 이며, B등급 입니다. \n"
     ]
    }
   ],
   "source": [
    "python_score = [57, 86, 64, 92, 35, 79]\n",
    "num = 0\n",
    "\n",
    "for i in python_score :\n",
    "    if i >= 80 :\n",
    "        grade = \"A\"\n",
    "    elif i >= 60 :\n",
    "        grade = 'B'\n",
    "    else :\n",
    "        grade = 'C'\n",
    "        \n",
    "    num += 1 \n",
    "    print(f\"{num}번은 {i}점 이며, {grade}등급 입니다. \")"
   ]
  },
  {
   "cell_type": "code",
   "execution_count": 56,
   "id": "40f3d263",
   "metadata": {},
   "outputs": [
    {
     "name": "stdout",
     "output_type": "stream",
     "text": [
      "1\n",
      "2\n",
      "3\n",
      "4\n",
      "5\n",
      "6\n",
      "7\n",
      "8\n",
      "9\n"
     ]
    }
   ],
   "source": [
    "for i in range(1,10,1) :\n",
    "    print(i)"
   ]
  },
  {
   "cell_type": "code",
   "execution_count": 57,
   "id": "7057a2f9",
   "metadata": {},
   "outputs": [
    {
     "name": "stdout",
     "output_type": "stream",
     "text": [
      "1 2 3 4 5 6 7 8 9 "
     ]
    }
   ],
   "source": [
    "# print(end = 출력 후에 어떤 작업을 할 것인가? 옵션지정, 개행, 띄어쓰기)\n",
    "for i in range(1,10,1) :\n",
    "    print(i, end=\" \")"
   ]
  },
  {
   "cell_type": "code",
   "execution_count": 60,
   "id": "96317fab",
   "metadata": {},
   "outputs": [
    {
     "name": "stdout",
     "output_type": "stream",
     "text": [
      "1 2 3 4 5 6 7 8 9 "
     ]
    }
   ],
   "source": [
    "# range 함수의 속성\n",
    "# range(시자값, 끝 값 + 1, 증감량)\n",
    "# 1. 하나의 값을 생략하는 경우 --> 증감량 생략, 기본값은 +1\n",
    "for i in range(1,10) :\n",
    "    print(i, end = \" \")"
   ]
  },
  {
   "cell_type": "code",
   "execution_count": 61,
   "id": "8a6da83a",
   "metadata": {},
   "outputs": [
    {
     "name": "stdout",
     "output_type": "stream",
     "text": [
      "0 1 2 3 4 5 6 7 8 9 "
     ]
    }
   ],
   "source": [
    "# 1. 두 개의 값을 생략하는 경우 --> 시작값 생략 (기본값 0), 증감량 생략, 기본값은 +1\n",
    "for i in range(10) :\n",
    "    print(i, end = \" \")"
   ]
  },
  {
   "cell_type": "code",
   "execution_count": 65,
   "id": "02758a3d",
   "metadata": {},
   "outputs": [
    {
     "name": "stdout",
     "output_type": "stream",
     "text": [
      "97 96 95 94 93 92 91 90 89 88 87 86 85 84 83 82 81 80 79 78 77 "
     ]
    }
   ],
   "source": [
    "for i in range(97, 76, -1) :\n",
    "    print(i, end=\" \")"
   ]
  },
  {
   "cell_type": "code",
   "execution_count": 67,
   "id": "5cdf6bcb",
   "metadata": {},
   "outputs": [
    {
     "name": "stdout",
     "output_type": "stream",
     "text": [
      "23 24 25 26 27 28 29 30 31 32 33 34 35 36 37 38 39 "
     ]
    }
   ],
   "source": [
    "for i in range(23, 40) :\n",
    "    print(i, end=\" \")"
   ]
  },
  {
   "cell_type": "code",
   "execution_count": 71,
   "id": "1c77b0e1",
   "metadata": {},
   "outputs": [
    {
     "name": "stdout",
     "output_type": "stream",
     "text": [
      "1 2\n",
      "3 4\n",
      "5 6\n"
     ]
    }
   ],
   "source": [
    "# 이차원 리스트 출력하기\n",
    "list1 = [[1,2],\n",
    "         [3,4], \n",
    "         [5,6]]\n",
    "\n",
    "for i, j in list1 :\n",
    "    print(i,j)"
   ]
  },
  {
   "cell_type": "code",
   "execution_count": 77,
   "id": "a78f3cb4",
   "metadata": {},
   "outputs": [
    {
     "name": "stdout",
     "output_type": "stream",
     "text": [
      "1\n"
     ]
    }
   ],
   "source": [
    "list2 = [4,5,2,1,99,15,2,7,27]\n",
    "min = list2[0]\n",
    "\n",
    "for i in list2 :\n",
    "    if i < min :\n",
    "        min = i\n",
    "print(min)"
   ]
  },
  {
   "cell_type": "code",
   "execution_count": 102,
   "id": "bd8a55ba",
   "metadata": {},
   "outputs": [
    {
     "name": "stdout",
     "output_type": "stream",
     "text": [
      "1683\n"
     ]
    }
   ],
   "source": [
    "sum1 = 0\n",
    "for i in range(0, 101, 3) :\n",
    "    sum1+=i\n",
    "print(sum1)"
   ]
  },
  {
   "cell_type": "code",
   "execution_count": 96,
   "id": "bb7ee18a",
   "metadata": {},
   "outputs": [
    {
     "name": "stdout",
     "output_type": "stream",
     "text": [
      "2 * 1 = 2\n",
      "2 * 2 = 4\n",
      "2 * 3 = 6\n",
      "2 * 4 = 8\n",
      "2 * 5 = 10\n",
      "2 * 6 = 12\n",
      "2 * 7 = 14\n",
      "2 * 8 = 16\n",
      "2 * 9 = 18\n"
     ]
    }
   ],
   "source": [
    "for i in range(1, 10) :\n",
    "    print(f\"2 * {i} = {2*i}\")"
   ]
  },
  {
   "cell_type": "code",
   "execution_count": 117,
   "id": "6190ff10",
   "metadata": {},
   "outputs": [
    {
     "name": "stdout",
     "output_type": "stream",
     "text": [
      " 정수 입력 >> 32\n",
      "32의 약수 :  1  2  4  8  16  32 "
     ]
    }
   ],
   "source": [
    "num = int(input(\"정수 입력 >> \"))\n",
    "print(f'{num}의 약수 :',  end=\" \")\n",
    "for i in range(1,num+1) :\n",
    "    if num % i == 0 :\n",
    "        print(f\" {i}\", end=\" \")"
   ]
  },
  {
   "cell_type": "code",
   "execution_count": null,
   "id": "2a174a80",
   "metadata": {},
   "outputs": [],
   "source": [
    "ㄴ"
   ]
  }
 ],
 "metadata": {
  "kernelspec": {
   "display_name": "Python 3 (ipykernel)",
   "language": "python",
   "name": "python3"
  },
  "language_info": {
   "codemirror_mode": {
    "name": "ipython",
    "version": 3
   },
   "file_extension": ".py",
   "mimetype": "text/x-python",
   "name": "python",
   "nbconvert_exporter": "python",
   "pygments_lexer": "ipython3",
   "version": "3.11.5"
  }
 },
 "nbformat": 4,
 "nbformat_minor": 5
}
