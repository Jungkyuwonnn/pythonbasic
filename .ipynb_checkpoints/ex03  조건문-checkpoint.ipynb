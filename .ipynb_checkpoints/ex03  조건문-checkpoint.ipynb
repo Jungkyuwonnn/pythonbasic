{
 "cells": [
  {
   "cell_type": "code",
   "execution_count": 1,
   "id": "457df264",
   "metadata": {},
   "outputs": [
    {
     "name": "stdout",
     "output_type": "stream",
     "text": [
      "실행문장 실행\n",
      "if문 밖에 있는 실행문장\n"
     ]
    }
   ],
   "source": [
    "if True :\n",
    "    print(\"실행문장 실행\")\n",
    "print('if문 밖에 있는 실행문장')"
   ]
  },
  {
   "cell_type": "code",
   "execution_count": 93,
   "id": "21e89221",
   "metadata": {},
   "outputs": [
    {
     "name": "stdout",
     "output_type": "stream",
     "text": [
      "if문 밖에 있는 실행문장\n"
     ]
    }
   ],
   "source": [
    "if False :\n",
    "    print(\"실행문장 실행\")\n",
    "print('if문 밖에 있는 실행문장')"
   ]
  },
  {
   "cell_type": "code",
   "execution_count": 6,
   "id": "e119da1e",
   "metadata": {},
   "outputs": [
    {
     "name": "stdout",
     "output_type": "stream",
     "text": [
      "변수 입력>> 12000\n",
      "택시를 탄다\n"
     ]
    }
   ],
   "source": [
    "# 조건문을 이용해서 money라는 변수에 10000원 이상이라면 '택시를 탄다' 문구를 출력\n",
    "# 변수 설정\n",
    "money = int(input(\"변수 입력>> \"))\n",
    "# 조건문 작성\n",
    "if money >= 10000 :\n",
    "    print('택시를 탄다')"
   ]
  },
  {
   "cell_type": "code",
   "execution_count": 9,
   "id": "3ecbed63",
   "metadata": {},
   "outputs": [
    {
     "name": "stdout",
     "output_type": "stream",
     "text": [
      "변수 입력>> 1000\n"
     ]
    },
    {
     "ename": "TypeError",
     "evalue": "'>=' not supported between instances of 'tuple' and 'int'",
     "output_type": "error",
     "traceback": [
      "\u001b[1;31m---------------------------------------------------------------------------\u001b[0m",
      "\u001b[1;31mTypeError\u001b[0m                                 Traceback (most recent call last)",
      "Cell \u001b[1;32mIn[9], line 6\u001b[0m\n\u001b[0;32m      4\u001b[0m money \u001b[38;5;241m=\u001b[39m \u001b[38;5;28mint\u001b[39m(\u001b[38;5;28minput\u001b[39m(\u001b[38;5;124m\"\u001b[39m\u001b[38;5;124m변수 입력>> \u001b[39m\u001b[38;5;124m\"\u001b[39m)), \u001b[38;5;28mstr\u001b[39m(\u001b[38;5;124m\"\u001b[39m\u001b[38;5;124m원\u001b[39m\u001b[38;5;124m\"\u001b[39m)\n\u001b[0;32m      5\u001b[0m \u001b[38;5;66;03m# 조건문 작성\u001b[39;00m\n\u001b[1;32m----> 6\u001b[0m \u001b[38;5;28;01mif\u001b[39;00m money \u001b[38;5;241m>\u001b[39m\u001b[38;5;241m=\u001b[39m \u001b[38;5;241m10000\u001b[39m :\n\u001b[0;32m      7\u001b[0m     \u001b[38;5;28mprint\u001b[39m(\u001b[38;5;124m'\u001b[39m\u001b[38;5;124m택시를 탄다\u001b[39m\u001b[38;5;124m'\u001b[39m)\n\u001b[0;32m      8\u001b[0m \u001b[38;5;28;01melse\u001b[39;00m :\n",
      "\u001b[1;31mTypeError\u001b[0m: '>=' not supported between instances of 'tuple' and 'int'"
     ]
    }
   ],
   "source": [
    "# 조건문을 이용해서 money라는 변수에 10000원 이상이라면 '택시를 탄다' 문구를 출력\n",
    "# 만약 money가 10000원 미만이라면 '버스를 탄다' 문구 출력\n",
    "# 변수 설정\n",
    "money = int(input(\"변수 입력>> \")) \n",
    "# 조건문 작성\n",
    "if money >= 10000 :\n",
    "    print('택시를 탄다')\n",
    "else :\n",
    "    print(\"버스를 탄다\")"
   ]
  },
  {
   "cell_type": "code",
   "execution_count": 11,
   "id": "38a5f513",
   "metadata": {},
   "outputs": [
    {
     "name": "stdout",
     "output_type": "stream",
     "text": [
      "변수 입력>> 10000원\n",
      "택시를 탄다\n"
     ]
    }
   ],
   "source": [
    "# 번외\n",
    "# 돈 입력받을 때 '원' 붙이기\n",
    "# 조건문을 이용해서 money라는 변수에 10000원 이상이라면 '택시를 탄다' 문구를 출력\n",
    "# 만약 money가 10000원 미만이라면 '버스를 탄다' 문구 출력\n",
    "# 변수 설정\n",
    "money = input(\"변수 입력>> \") # 문자형 str\n",
    "# 문자열 쪼개기 - split\n",
    "\n",
    "money = int(money.split('원')[0])\n",
    "# 조건문 작성\n",
    "if money >= 10000 :\n",
    "    print('택시를 탄다')\n",
    "else :\n",
    "    print(\"버스를 탄다\")"
   ]
  },
  {
   "cell_type": "code",
   "execution_count": 18,
   "id": "9bb7dba7",
   "metadata": {},
   "outputs": [
    {
     "name": "stdout",
     "output_type": "stream",
     "text": [
      "정수 입력 >> 15\n",
      "3과 5의 배수입니다. \n"
     ]
    }
   ],
   "source": [
    "num = int(input(\"정수 입력 >> \" ))\n",
    "if (num % 3 == 0) & (num % 5 == 0) :\n",
    "    print(\"3과 5의 배수입니다. \")\n",
    "else :\n",
    "    print(\"3과 5의 배수가 아닙니다. \")"
   ]
  },
  {
   "cell_type": "code",
   "execution_count": 40,
   "id": "160469a5",
   "metadata": {},
   "outputs": [
    {
     "name": "stdout",
     "output_type": "stream",
     "text": [
      "마스크 개수 입력 >> 7\n",
      "8개들이 포장지 개수 :  0\n",
      "5개들이 포장지 개수 :  1\n"
     ]
    }
   ],
   "source": [
    "countOfMask = int(input(\"마스크 개수 입력 >> \"))\n",
    "if countOfMask >= 8 :\n",
    "    print(\"8개들이 포장지 개수 : \", countOfMask // 8)\n",
    "    if (countOfMask % 8 >= 5) :\n",
    "        print(\"5개들이 포장지 개수 : \", countOfMask % 8 % 5 )\n",
    "    else :\n",
    "        print(\"5개들이 포장지 개수 : \", countOfMask % 8  )   \n",
    "else :\n",
    "    print(\"8개들이 포장지 개수 : \", countOfMask // 8)\n",
    "    print(\"5개들이 포장지 개수 : \", 1)"
   ]
  },
  {
   "cell_type": "code",
   "execution_count": 105,
   "id": "621257b3",
   "metadata": {},
   "outputs": [
    {
     "name": "stdout",
     "output_type": "stream",
     "text": [
      "마스크 개수 입력 >> 17\n",
      "8개입 포장지 개수 : 2\n",
      "5개입 포장지 개수 : 0\n"
     ]
    }
   ],
   "source": [
    "mask = int(input(\"마스크 개수 입력 >> \"))\n",
    "a = mask // 8\n",
    "b = mask%8//5\n",
    "\n",
    "if mask >= 8:\n",
    "    print(f\"8개입 포장지 개수 : {a}\")\n",
    "    print(f\"5개입 포장지 개수 : {b}\")\n",
    "else :\n",
    "    print(f\"8개입 포장지 개수 : {a}\")\n",
    "    print(f\"5개입 포장지 개수 : {b+1}\")\n",
    "    "
   ]
  },
  {
   "cell_type": "code",
   "execution_count": 43,
   "id": "4632c161",
   "metadata": {},
   "outputs": [
    {
     "name": "stdout",
     "output_type": "stream",
     "text": [
      "첫 번째 정수 입력 >> 6\n",
      "두 번째 정수 입력 >> 1\n",
      "첫 번째 정수가 더 큽니다.\n"
     ]
    }
   ],
   "source": [
    "num1 = int(input(\"첫 번째 정수 입력 >> \"))\n",
    "num2 = int(input(\"두 번째 정수 입력 >> \"))\n",
    "\n",
    "if num1 > num2 :\n",
    "    print(\"첫 번째 정수가 더 큽니다.\")\n",
    "elif num1 < num2 :\n",
    "    print(\"두 번째 정수가 더 큽니다. \")\n",
    "else :\n",
    "    print(\"두 수가 똑같습니다. \")"
   ]
  },
  {
   "cell_type": "code",
   "execution_count": 52,
   "id": "2c647e1c",
   "metadata": {},
   "outputs": [
    {
     "name": "stdout",
     "output_type": "stream",
     "text": [
      "점수 입력 >> 90\n",
      "90점은 A학점 입니다. \n"
     ]
    }
   ],
   "source": [
    "# 변수 score에 점수를 입력 받아서 학점을 부여하세요\n",
    "score = int(input(\"점수 입력 >> \"))\n",
    "grade = \"\"\n",
    "\n",
    "if score > 100 :\n",
    "    print(\"점수 잘못 입력했어요\")\n",
    "else :\n",
    "    if score >= 90 :\n",
    "        grade = \"A\"\n",
    "    elif score>=80 :\n",
    "        grade = \"B\"\n",
    "    elif score>=70 :\n",
    "        grade = \"C\"\n",
    "    elif score>=60 :\n",
    "        grade = \"D\"\n",
    "    else :\n",
    "        grade = 'F'\n",
    "    print(f\"{score}점은 {grade}학점 입니다. \")"
   ]
  },
  {
   "cell_type": "code",
   "execution_count": 66,
   "id": "97701352",
   "metadata": {},
   "outputs": [
    {
     "name": "stdout",
     "output_type": "stream",
     "text": [
      "나이 입력 >> 19\n",
      "요금은 1125원 입니다.\n"
     ]
    }
   ],
   "source": [
    "age = int(input(\"나이 입력 >> \"))\n",
    "money = 1500\n",
    "\n",
    "if 5>age>0 :\n",
    "    money = money*0.5\n",
    "elif 20>age>=5:\n",
    "    money = money*0.75\n",
    "elif age>=65 :\n",
    "    money = money*0.25\n",
    "else :\n",
    "    money\n",
    "print(f\"요금은 {int(money)}원 입니다.\")\n",
    "    \n",
    "    "
   ]
  },
  {
   "cell_type": "code",
   "execution_count": 92,
   "id": "139e3d8e",
   "metadata": {},
   "outputs": [
    {
     "name": "stdout",
     "output_type": "stream",
     "text": [
      "==============================================================\n",
      "====================== ---- 자판기 ---- ======================\n",
      "==============================================================\n",
      "1. 콜라  2.사이다  3. 물 \n",
      "insert coin >> 2000\n",
      "메뉴 선택 >> 1\n",
      "1000원 1개, 500원 0개, 100원 4개\n"
     ]
    }
   ],
   "source": [
    "# 자판기 프로그램 만들어보자\n",
    "print('='*62)\n",
    "print('='*22, '-'*4, \"자판기\", '-'*4, '='*22)\n",
    "print('='*62)\n",
    "menu = print(\"1. 콜라  2.사이다  3. 물 \")\n",
    "coin = int(input(\"insert coin >> \"))\n",
    "choice = int(input(\"메뉴 선택 >> \"))\n",
    "num1 = 1000\n",
    "num2 = 500\n",
    "num3 = 100\n",
    "\n",
    "# 돈이 부족할 때\n",
    "if coin < 600 :\n",
    "    print(\"추가금액이 필요합니다. \")\n",
    "    # 돈이 600원 이상일 때\n",
    "else :\n",
    "    if choice == 1 :\n",
    "        coin = coin - 600\n",
    "    elif choice == 2 :\n",
    "        if coin < 800 :\n",
    "            print(\"추가금액이 필요합니다. \")\n",
    "        else : \n",
    "            coin = coin -800    \n",
    "    elif choice == 3 :\n",
    "        if coin < 1000 :\n",
    "            print(\"추가금액이 필요합니다. \")\n",
    "        else :\n",
    "            coin = coin - 1000      \n",
    "    else :\n",
    "        print(\"잘못된 메뉴입니다. \")\n",
    "    print(f\"1000원 {coin // num1}장, 500원 {coin%num1//num2}개, 100원 {coin%num1%num2//num3}개\")\n",
    "    "
   ]
  },
  {
   "cell_type": "code",
   "execution_count": null,
   "id": "967914f0",
   "metadata": {},
   "outputs": [],
   "source": []
  }
 ],
 "metadata": {
  "kernelspec": {
   "display_name": "Python 3 (ipykernel)",
   "language": "python",
   "name": "python3"
  },
  "language_info": {
   "codemirror_mode": {
    "name": "ipython",
    "version": 3
   },
   "file_extension": ".py",
   "mimetype": "text/x-python",
   "name": "python",
   "nbconvert_exporter": "python",
   "pygments_lexer": "ipython3",
   "version": "3.11.5"
  }
 },
 "nbformat": 4,
 "nbformat_minor": 5
}
