{
 "cells": [
  {
   "cell_type": "markdown",
   "id": "3d2f206f",
   "metadata": {
    "toc": true
   },
   "source": [
    "<h1>Table of Contents<span class=\"tocSkip\"></span></h1>\n",
    "<div class=\"toc\"><ul class=\"toc-item\"><li><span><a href=\"#제목1\" data-toc-modified-id=\"제목1-1\"><span class=\"toc-item-num\">1&nbsp;&nbsp;</span>제목1</a></span><ul class=\"toc-item\"><li><span><a href=\"#제목-2\" data-toc-modified-id=\"제목-2-1.1\"><span class=\"toc-item-num\">1.1&nbsp;&nbsp;</span>제목 2</a></span><ul class=\"toc-item\"><li><span><a href=\"#제목-3\" data-toc-modified-id=\"제목-3-1.1.1\"><span class=\"toc-item-num\">1.1.1&nbsp;&nbsp;</span>제목 3</a></span><ul class=\"toc-item\"><li><span><a href=\"#제목-4\" data-toc-modified-id=\"제목-4-1.1.1.1\"><span class=\"toc-item-num\">1.1.1.1&nbsp;&nbsp;</span>제목 4</a></span></li></ul></li><li><span><a href=\"#01-변수\" data-toc-modified-id=\"01-변수-1.1.2\"><span class=\"toc-item-num\">1.1.2&nbsp;&nbsp;</span>01 변수</a></span></li><li><span><a href=\"#인덱싱-/-슬라이싱(1회차)\" data-toc-modified-id=\"인덱싱-/-슬라이싱(1회차)-1.1.3\"><span class=\"toc-item-num\">1.1.3&nbsp;&nbsp;</span>인덱싱 / 슬라이싱(1회차)</a></span></li></ul></li></ul></li></ul></div>"
   ]
  },
  {
   "cell_type": "code",
   "execution_count": 1,
   "id": "737ab08a",
   "metadata": {},
   "outputs": [],
   "source": [
    "# 앞의 색이 파란색이면 Commend mode (주피터 노트북 제어)\n",
    "# 앞의 색이 노란색이면 Edit mode (코드 작성 및 내용 입력)\n",
    "# 자바에서 주석은 //, 파이썬에서의 주석은 #\n"
   ]
  },
  {
   "cell_type": "code",
   "execution_count": 2,
   "id": "c9ec5e19",
   "metadata": {},
   "outputs": [],
   "source": [
    "# Commend mode 조작법\n",
    "# 파란 색상일 때 b : 아래에 셀 추가\n",
    "# 파란 색상일 때 a : 위에 셀 추가\n",
    "# Esc 누르면 색상 변함\n",
    "# 파란 색상일 때 dd : 셀 삭제\n",
    "# 파란 색상일 때 Enter : Edit Mode로 전환\n",
    "# 파란 색상일 때 x : 셀 잘라내기\n",
    "# 파란 색상일 때 v : 셀 붙여넣기"
   ]
  },
  {
   "cell_type": "markdown",
   "id": "7aaa2e92",
   "metadata": {},
   "source": [
    "파란 색상일 때 m : 마크다운(연습장과 같은 역할\n",
    "# 제목1\n",
    "## 제목 2\n",
    "### 제목 3\n",
    "#### 제목 4\n",
    "##### 제목 5\n",
    "###### 제목 6\n",
    "- 안녕하세요 오늘 파이썬 처음이시죠\n",
    "    - 앞으로 파이선도 많이 사랑해주세요. "
   ]
  },
  {
   "cell_type": "code",
   "execution_count": 3,
   "id": "0726e07d",
   "metadata": {},
   "outputs": [],
   "source": [
    "# 코드가 작성된 줄에서 실행은 ctrl + enter \n",
    "num1 = 1"
   ]
  },
  {
   "cell_type": "code",
   "execution_count": 4,
   "id": "b65469e3",
   "metadata": {},
   "outputs": [
    {
     "data": {
      "text/plain": [
       "1"
      ]
     },
     "execution_count": 4,
     "metadata": {},
     "output_type": "execute_result"
    }
   ],
   "source": [
    "num1"
   ]
  },
  {
   "cell_type": "code",
   "execution_count": 5,
   "id": "ac28a2a2",
   "metadata": {},
   "outputs": [],
   "source": [
    "# 공통 단축키\n",
    "# ctrl + enter : 현재 셀 실행\n",
    "# shift + enter : 현재 셀 실행 후 아래 셀로 이동\n",
    "# 파란색 상태에서 숫자 1,2,3 중 누르면 자동으로 제목 생성됨"
   ]
  },
  {
   "cell_type": "code",
   "execution_count": 6,
   "id": "8f1f7280",
   "metadata": {},
   "outputs": [],
   "source": [
    "# 만들어볼까요?"
   ]
  },
  {
   "cell_type": "markdown",
   "id": "0a2f465d",
   "metadata": {},
   "source": [
    "### 01 변수\n",
    "\n"
   ]
  },
  {
   "cell_type": "code",
   "execution_count": 7,
   "id": "006c7743",
   "metadata": {},
   "outputs": [
    {
     "name": "stdout",
     "output_type": "stream",
     "text": [
      "3\n"
     ]
    },
    {
     "data": {
      "text/plain": [
       "3"
      ]
     },
     "execution_count": 7,
     "metadata": {},
     "output_type": "execute_result"
    }
   ],
   "source": [
    "num = 3\n",
    "print(num)\n",
    "num"
   ]
  },
  {
   "cell_type": "code",
   "execution_count": 8,
   "id": "95821680",
   "metadata": {},
   "outputs": [
    {
     "name": "stdout",
     "output_type": "stream",
     "text": [
      "13\n"
     ]
    }
   ],
   "source": [
    "num1 = 13\n",
    "print(num1)\n"
   ]
  },
  {
   "cell_type": "code",
   "execution_count": 9,
   "id": "bb218774",
   "metadata": {},
   "outputs": [
    {
     "name": "stdout",
     "output_type": "stream",
     "text": [
      "25\n"
     ]
    }
   ],
   "source": [
    "num2 = 25\n",
    "print(num2)"
   ]
  },
  {
   "cell_type": "code",
   "execution_count": 10,
   "id": "7c9cd292",
   "metadata": {},
   "outputs": [
    {
     "data": {
      "text/plain": [
       "77"
      ]
     },
     "execution_count": 10,
     "metadata": {},
     "output_type": "execute_result"
    }
   ],
   "source": [
    "num2 = 77\n",
    "num2"
   ]
  },
  {
   "cell_type": "code",
   "execution_count": 11,
   "id": "0ce41a67",
   "metadata": {},
   "outputs": [
    {
     "data": {
      "text/plain": [
       "3.12"
      ]
     },
     "execution_count": 11,
     "metadata": {},
     "output_type": "execute_result"
    }
   ],
   "source": [
    "\n",
    "num4 = 1.25\n",
    "num4 = 3.12\n",
    "num4"
   ]
  },
  {
   "cell_type": "code",
   "execution_count": 12,
   "id": "e64902e7",
   "metadata": {},
   "outputs": [
    {
     "data": {
      "text/plain": [
       "'Funny python'"
      ]
     },
     "execution_count": 12,
     "metadata": {},
     "output_type": "execute_result"
    }
   ],
   "source": [
    "str1 = \"Funny python\"\n",
    "str1"
   ]
  },
  {
   "cell_type": "code",
   "execution_count": 13,
   "id": "fe093ea5",
   "metadata": {},
   "outputs": [
    {
     "data": {
      "text/plain": [
       "'Easy python'"
      ]
     },
     "execution_count": 13,
     "metadata": {},
     "output_type": "execute_result"
    }
   ],
   "source": [
    "str2 = 'Easy python'\n",
    "str2"
   ]
  },
  {
   "cell_type": "code",
   "execution_count": 14,
   "id": "ef10d7dd",
   "metadata": {},
   "outputs": [
    {
     "data": {
      "text/plain": [
       "['False',\n",
       " 'None',\n",
       " 'True',\n",
       " 'and',\n",
       " 'as',\n",
       " 'assert',\n",
       " 'async',\n",
       " 'await',\n",
       " 'break',\n",
       " 'class',\n",
       " 'continue',\n",
       " 'def',\n",
       " 'del',\n",
       " 'elif',\n",
       " 'else',\n",
       " 'except',\n",
       " 'finally',\n",
       " 'for',\n",
       " 'from',\n",
       " 'global',\n",
       " 'if',\n",
       " 'import',\n",
       " 'in',\n",
       " 'is',\n",
       " 'lambda',\n",
       " 'nonlocal',\n",
       " 'not',\n",
       " 'or',\n",
       " 'pass',\n",
       " 'raise',\n",
       " 'return',\n",
       " 'try',\n",
       " 'while',\n",
       " 'with',\n",
       " 'yield']"
      ]
     },
     "execution_count": 14,
     "metadata": {},
     "output_type": "execute_result"
    }
   ],
   "source": [
    "import keyword\n",
    "keyword.kwlist"
   ]
  },
  {
   "cell_type": "code",
   "execution_count": 15,
   "id": "e7b50784",
   "metadata": {},
   "outputs": [
    {
     "name": "stdout",
     "output_type": "stream",
     "text": [
      "10\n",
      "15\n"
     ]
    }
   ],
   "source": [
    "a = 10\n",
    "b = 15\n",
    "print(a)\n",
    "print(b)"
   ]
  },
  {
   "cell_type": "code",
   "execution_count": 16,
   "id": "94321614",
   "metadata": {},
   "outputs": [
    {
     "name": "stdout",
     "output_type": "stream",
     "text": [
      "10\n",
      "15\n"
     ]
    }
   ],
   "source": [
    "a,b = 10,15\n",
    "print(a)\n",
    "print(b)"
   ]
  },
  {
   "cell_type": "code",
   "execution_count": 17,
   "id": "244f67af",
   "metadata": {},
   "outputs": [
    {
     "name": "stdout",
     "output_type": "stream",
     "text": [
      "python\n",
      "python\n"
     ]
    }
   ],
   "source": [
    "str1 = 'python'\n",
    "str2 = 'python'\n",
    "print(str1)\n",
    "print(str2)"
   ]
  },
  {
   "cell_type": "code",
   "execution_count": 18,
   "id": "8c704c60",
   "metadata": {},
   "outputs": [
    {
     "name": "stdout",
     "output_type": "stream",
     "text": [
      "python\n",
      "python\n"
     ]
    }
   ],
   "source": [
    "str1 = str2 = 'python'\n",
    "print(str1)\n",
    "print(str2)"
   ]
  },
  {
   "cell_type": "code",
   "execution_count": 19,
   "id": "9b0a9c07",
   "metadata": {},
   "outputs": [
    {
     "name": "stdout",
     "output_type": "stream",
     "text": [
      "300\n"
     ]
    }
   ],
   "source": [
    "x = 100\n",
    "y = 200\n",
    "sum1 = x + y\n",
    "print(sum1)"
   ]
  },
  {
   "cell_type": "code",
   "execution_count": 21,
   "id": "87505aa6",
   "metadata": {},
   "outputs": [
    {
     "data": {
      "text/plain": [
       "14"
      ]
     },
     "execution_count": 21,
     "metadata": {},
     "output_type": "execute_result"
    }
   ],
   "source": [
    "sum([5,2,3,4])"
   ]
  },
  {
   "cell_type": "code",
   "execution_count": 31,
   "id": "b09d72e4",
   "metadata": {},
   "outputs": [
    {
     "data": {
      "text/plain": [
       "\"she's gone\""
      ]
     },
     "execution_count": 31,
     "metadata": {},
     "output_type": "execute_result"
    }
   ],
   "source": [
    "s = 'she\\'s gone'\n",
    "s"
   ]
  },
  {
   "cell_type": "code",
   "execution_count": 32,
   "id": "8f83977f",
   "metadata": {},
   "outputs": [
    {
     "data": {
      "text/plain": [
       "\"she's gone\""
      ]
     },
     "execution_count": 32,
     "metadata": {},
     "output_type": "execute_result"
    }
   ],
   "source": [
    "s = \"she's gone\"\n",
    "s"
   ]
  },
  {
   "cell_type": "code",
   "execution_count": 34,
   "id": "127112c7",
   "metadata": {},
   "outputs": [
    {
     "name": "stdout",
     "output_type": "stream",
     "text": [
      "여러 줄로 구성된 \n",
      "문자열을 하나로 \n",
      "출력하고 싶을 때\n"
     ]
    }
   ],
   "source": [
    "# 여러 줄로 구성된 문자열을 변수에 대입하고 싶을 때 \n",
    "# 여러 줄로 구성된\n",
    "# 문자열을 변수에 \n",
    "# 대입하고 싶을 때 \n",
    "# println * 3\n",
    "# \\n(개행 문자)\n",
    "s = \"여러 줄로 구성된 \\n문자열을 하나로 \\n출력하고 싶을 때\"\n",
    "print(s)"
   ]
  },
  {
   "cell_type": "code",
   "execution_count": 38,
   "id": "715d537b",
   "metadata": {},
   "outputs": [
    {
     "name": "stdout",
     "output_type": "stream",
     "text": [
      "여러 줄로 구성된 \n",
      "문자열을 \n",
      "하나로 \n",
      "출력하고 싶을 때\n"
     ]
    }
   ],
   "source": [
    "s = \"\"\"여러 줄로 구성된 \n",
    "문자열을 \n",
    "하나로 \n",
    "출력하고 싶을 때\"\"\"\n",
    "print(s)"
   ]
  },
  {
   "cell_type": "code",
   "execution_count": 41,
   "id": "a5304f48",
   "metadata": {},
   "outputs": [
    {
     "name": "stdout",
     "output_type": "stream",
     "text": [
      "\n",
      "1교시 : HTML/CSS\n",
      "2교시 : HTML/CSS\n",
      "3교시 : HTML/CSS\n",
      "4교시 : HTML/CSS\n",
      "5교시 : 파이썬 라이브러리\n",
      "6교시 : 파이썬 라이브러리\n",
      "7교시 : 파이썬 라이브러리\n"
     ]
    }
   ],
   "source": [
    "# 문자열 포맷팅\n",
    "# 문자 내부에서 자주 바뀌는 부분을 변수 처리해서 원하는 결과를 출력하는 방법\n",
    "\n",
    "am = 'HTML/CSS'\n",
    "pm = '파이썬 라이브러리'\n",
    "\n",
    "\n",
    "\n",
    "s = f\"\"\"\n",
    "1교시 : {am}\n",
    "2교시 : {am}\n",
    "3교시 : {am}\n",
    "4교시 : {am}\n",
    "5교시 : {pm}\n",
    "6교시 : {pm}\n",
    "7교시 : {pm}\"\"\"\n",
    "print(s)"
   ]
  },
  {
   "cell_type": "markdown",
   "id": "ea891b3a",
   "metadata": {},
   "source": [
    "### 인덱싱 / 슬라이싱(1회차)\n",
    "- 인덱싱 : 무엇인가를 '가리킨다'라는 의미\n",
    "- 슬라이싱 : 무엇인가를 '잘라낸다'라는 의미 "
   ]
  },
  {
   "cell_type": "code",
   "execution_count": 52,
   "id": "50ba0a37",
   "metadata": {},
   "outputs": [
    {
     "data": {
      "text/plain": [
       "'N'"
      ]
     },
     "execution_count": 52,
     "metadata": {},
     "output_type": "execute_result"
    }
   ],
   "source": [
    "s = 'my name is KN'\n",
    "#s[8]\n",
    "s[12]"
   ]
  },
  {
   "cell_type": "code",
   "execution_count": 45,
   "id": "6de29c46",
   "metadata": {},
   "outputs": [
    {
     "data": {
      "text/plain": [
       "'K'"
      ]
     },
     "execution_count": 45,
     "metadata": {},
     "output_type": "execute_result"
    }
   ],
   "source": [
    "s[-2]"
   ]
  },
  {
   "cell_type": "code",
   "execution_count": 48,
   "id": "b83c565f",
   "metadata": {},
   "outputs": [],
   "source": [
    "# 문자열 인덱싱 실습\n",
    "# 여러분들의 이름 ㅎ이니셜에 해당하는 글자를 가져와주세요\n",
    "s = 'my name is KW'"
   ]
  },
  {
   "cell_type": "code",
   "execution_count": 50,
   "id": "210986e2",
   "metadata": {},
   "outputs": [
    {
     "name": "stdout",
     "output_type": "stream",
     "text": [
      "K\n",
      "W\n"
     ]
    }
   ],
   "source": [
    "print(s[11])\n",
    "print(s[12])"
   ]
  },
  {
   "cell_type": "code",
   "execution_count": null,
   "id": "7e4ab9fc",
   "metadata": {},
   "outputs": [],
   "source": [
    "# 인덱스의 시작번호는 항상 0부터 시작함\n",
    "# 슬라이싱에서 인덱스의 끝 번호는 항상 어떻게 처리한다? +1을 해준다. "
   ]
  },
  {
   "cell_type": "code",
   "execution_count": 53,
   "id": "fb7464b2",
   "metadata": {},
   "outputs": [
    {
     "data": {
      "text/plain": [
       "'name'"
      ]
     },
     "execution_count": 53,
     "metadata": {},
     "output_type": "execute_result"
    }
   ],
   "source": [
    "# 인덱싱으로 글자 하나한 가져오는 거 불편하다\n",
    "# 범위를 정해서 단어를 가져와보자\n",
    "# 데이터 슬라이싱 -> 끝번호는 미포함\n",
    "# s[ 인덱스 시작번호 : 인덱스 끝번호 +1 ]\n",
    "s[ 3:7 ]"
   ]
  },
  {
   "cell_type": "code",
   "execution_count": 3,
   "id": "2aa04322",
   "metadata": {},
   "outputs": [],
   "source": [
    "s = 'my name is KW'"
   ]
  },
  {
   "cell_type": "code",
   "execution_count": 6,
   "id": "da5fa22c",
   "metadata": {},
   "outputs": [
    {
     "name": "stdout",
     "output_type": "stream",
     "text": [
      "my\n",
      "is\n",
      "KW\n"
     ]
    }
   ],
   "source": [
    "s[0:2]"
   ]
  },
  {
   "cell_type": "code",
   "execution_count": 7,
   "id": "9865e4ab",
   "metadata": {},
   "outputs": [
    {
     "data": {
      "text/plain": [
       "'is'"
      ]
     },
     "execution_count": 7,
     "metadata": {},
     "output_type": "execute_result"
    }
   ],
   "source": [
    "# is를 가져와보자\n",
    "s[8:10]"
   ]
  },
  {
   "cell_type": "code",
   "execution_count": 8,
   "id": "ab682985",
   "metadata": {},
   "outputs": [
    {
     "data": {
      "text/plain": [
       "'KW'"
      ]
     },
     "execution_count": 8,
     "metadata": {},
     "output_type": "execute_result"
    }
   ],
   "source": [
    "# 이름 가져오기\n",
    "s[11:13]"
   ]
  },
  {
   "cell_type": "code",
   "execution_count": 10,
   "id": "1b566efa",
   "metadata": {},
   "outputs": [
    {
     "data": {
      "text/plain": [
       "'KW'"
      ]
     },
     "execution_count": 10,
     "metadata": {},
     "output_type": "execute_result"
    }
   ],
   "source": [
    "s[-2 : ]"
   ]
  },
  {
   "cell_type": "code",
   "execution_count": 11,
   "id": "e67601b4",
   "metadata": {},
   "outputs": [
    {
     "name": "stdout",
     "output_type": "stream",
     "text": [
      "my name\n",
      "my name\n"
     ]
    }
   ],
   "source": [
    "# 슬라이싱에서 값을 생략하는 것에 대한 의미\n",
    "# 변수 [ 시작값 인덱스 : 끝값 인덱스 + 1 ]\n",
    "# 시작값이 생략되는 경우 -> 데이터의 처음부터(인덱스 번호 0번부터)\n",
    "print(s[0:7])\n",
    "print(s[ :7])"
   ]
  },
  {
   "cell_type": "code",
   "execution_count": 13,
   "id": "16161a1f",
   "metadata": {},
   "outputs": [
    {
     "name": "stdout",
     "output_type": "stream",
     "text": [
      "KW\n",
      "KW\n"
     ]
    }
   ],
   "source": [
    "# 끝 값이 생략되는 경우 -> 데이터의 끝부분까지(인덱스 번호 마지막까지)\n",
    "print(s[11 : 13])\n",
    "print(s[11 :])"
   ]
  },
  {
   "cell_type": "code",
   "execution_count": 14,
   "id": "e3b7b1da",
   "metadata": {},
   "outputs": [
    {
     "data": {
      "text/plain": [
       "'my name is KW'"
      ]
     },
     "execution_count": 14,
     "metadata": {},
     "output_type": "execute_result"
    }
   ],
   "source": [
    "# 문자열에 처음부터 끝까지 모든 문자를 가져오고 싶으면 어떻게 해야할까?\n",
    "s[ : ]"
   ]
  },
  {
   "cell_type": "code",
   "execution_count": 15,
   "id": "60bfb64f",
   "metadata": {},
   "outputs": [
    {
     "data": {
      "text/plain": [
       "'my name is KW'"
      ]
     },
     "execution_count": 15,
     "metadata": {},
     "output_type": "execute_result"
    }
   ],
   "source": [
    "s"
   ]
  },
  {
   "cell_type": "code",
   "execution_count": 25,
   "id": "64c6d4d8",
   "metadata": {},
   "outputs": [
    {
     "data": {
      "text/plain": [
       "'안녕하세요안녕하세요'"
      ]
     },
     "execution_count": 25,
     "metadata": {},
     "output_type": "execute_result"
    }
   ],
   "source": [
    "# 문자열 더하기\n",
    "s1 = '안녕하세요'\n",
    "s1 + s1"
   ]
  },
  {
   "cell_type": "code",
   "execution_count": 27,
   "id": "3a8f7e9c",
   "metadata": {},
   "outputs": [
    {
     "name": "stdout",
     "output_type": "stream",
     "text": [
      "날짜 : 2024년 1월 30일\n",
      "날씨 : 맑음\n",
      "날짜 : 2024년 1월 30일\n",
      "날씨 : 맑음\n"
     ]
    }
   ],
   "source": [
    "# 다음과 같은 문자열에서 날짜와 날씨를 따로 뽑아서 출력해보자\n",
    "s = '2024년 1월 30일의 날씨는 맑음입니다.'\n",
    "s1 = '날짜 : '\n",
    "s2 = s[ : 12]\n",
    "print(s1+s2)\n",
    "s3 = '날씨 : '\n",
    "s4 = s[18:20]\n",
    "print(s3 + s4)\n",
    "\n",
    "print('날짜 : ' +  s[ : 12] )\n",
    "print('날씨 : ' + s[-6 : -4])"
   ]
  },
  {
   "cell_type": "code",
   "execution_count": 30,
   "id": "d57ceeb1",
   "metadata": {},
   "outputs": [
    {
     "data": {
      "text/plain": [
       "'오늘은 1월 14일 입니다.'"
      ]
     },
     "execution_count": 30,
     "metadata": {},
     "output_type": "execute_result"
    }
   ],
   "source": [
    "# 문자열 포매팅 실습\n",
    "# 문자열 포매팅 : 문자 내부의 특정한 값을 바꿔야 할 경우 사용\n",
    "# 1. %d 포매팅\n",
    "day = 14\n",
    "s = '오늘은 1월 %d일 입니다.'%day\n",
    "s"
   ]
  },
  {
   "cell_type": "code",
   "execution_count": 33,
   "id": "c1628aad",
   "metadata": {},
   "outputs": [
    {
     "data": {
      "text/plain": [
       "'오늘은 2월 30일 입니다.'"
      ]
     },
     "execution_count": 33,
     "metadata": {},
     "output_type": "execute_result"
    }
   ],
   "source": [
    "month = 2\n",
    "day = 30\n",
    "s = '오늘은 %d월 %d일 입니다.'%(month, day)\n",
    "s"
   ]
  },
  {
   "cell_type": "code",
   "execution_count": 35,
   "id": "84d6e446",
   "metadata": {},
   "outputs": [
    {
     "data": {
      "text/plain": [
       "'오늘은 2월 30일 입니다.'"
      ]
     },
     "execution_count": 35,
     "metadata": {},
     "output_type": "execute_result"
    }
   ],
   "source": [
    "# 2. format함수를 이용한 포매팅\n",
    "month = 2\n",
    "day = 30\n",
    "s = '오늘은 {}월 {}일 입니다.'.format(month, day)\n",
    "s"
   ]
  },
  {
   "cell_type": "code",
   "execution_count": 36,
   "id": "7a58bac3",
   "metadata": {},
   "outputs": [
    {
     "data": {
      "text/plain": [
       "'오늘은 2월 30일 입니다.'"
      ]
     },
     "execution_count": 36,
     "metadata": {},
     "output_type": "execute_result"
    }
   ],
   "source": [
    "# 3. f포매팅\n",
    "month = 2\n",
    "day = 30\n",
    "s = f'오늘은 {month}월 {day}일 입니다.'\n",
    "s"
   ]
  },
  {
   "cell_type": "code",
   "execution_count": 41,
   "id": "5c338569",
   "metadata": {},
   "outputs": [
    {
     "data": {
      "text/plain": [
       "'100와 200의 합은 300입니다. '"
      ]
     },
     "execution_count": 41,
     "metadata": {},
     "output_type": "execute_result"
    }
   ],
   "source": [
    "x = 100\n",
    "y = 200\n",
    "sum2 = x + y\n",
    "s = f'{x}와 {y}의 합은 {sum2}입니다. '\n",
    "s"
   ]
  },
  {
   "cell_type": "code",
   "execution_count": 42,
   "id": "665dfbaf",
   "metadata": {},
   "outputs": [
    {
     "data": {
      "text/plain": [
       "'안녕하세요'"
      ]
     },
     "execution_count": 42,
     "metadata": {},
     "output_type": "execute_result"
    }
   ],
   "source": [
    "# strip() : 문자의 양쪽 공백을 없애주는 함수\n",
    "s = \"              안녕하세요           \"\n",
    "s.strip()"
   ]
  },
  {
   "cell_type": "code",
   "execution_count": 43,
   "id": "a57a5710",
   "metadata": {},
   "outputs": [
    {
     "data": {
      "text/plain": [
       "'안녕하세요'"
      ]
     },
     "execution_count": 43,
     "metadata": {},
     "output_type": "execute_result"
    }
   ],
   "source": [
    "# replace(기존의 문자, 바꿀 문자)\n",
    "s = '안녕 하세요'\n",
    "s.replace(\" \", \"\")"
   ]
  },
  {
   "cell_type": "code",
   "execution_count": 46,
   "id": "4b21a52d",
   "metadata": {},
   "outputs": [
    {
     "data": {
      "text/plain": [
       "'안녕하세요, 연재씨, 연재씨는 오늘 잘 보내고 있나요?'"
      ]
     },
     "execution_count": 46,
     "metadata": {},
     "output_type": "execute_result"
    }
   ],
   "source": [
    "s = '안녕하세요, 상원씨, 상원씨는 오늘 잘 보내고 있나요?'\n",
    "s.replace(\"상원\", '연재')"
   ]
  },
  {
   "cell_type": "code",
   "execution_count": 49,
   "id": "8ead6f92",
   "metadata": {},
   "outputs": [
    {
     "data": {
      "text/plain": [
       "'우석'"
      ]
     },
     "execution_count": 49,
     "metadata": {},
     "output_type": "execute_result"
    }
   ],
   "source": [
    "# split()\n",
    "s = \"우석, 우건, 준범, 동완\"\n",
    "s.split(\",\")[0]"
   ]
  }
 ],
 "metadata": {
  "kernelspec": {
   "display_name": "Python 3 (ipykernel)",
   "language": "python",
   "name": "python3"
  },
  "language_info": {
   "codemirror_mode": {
    "name": "ipython",
    "version": 3
   },
   "file_extension": ".py",
   "mimetype": "text/x-python",
   "name": "python",
   "nbconvert_exporter": "python",
   "pygments_lexer": "ipython3",
   "version": "3.11.5"
  },
  "toc": {
   "base_numbering": 1,
   "nav_menu": {},
   "number_sections": true,
   "sideBar": true,
   "skip_h1_title": false,
   "title_cell": "Table of Contents",
   "title_sidebar": "Contents",
   "toc_cell": true,
   "toc_position": {
    "height": "calc(100% - 180px)",
    "left": "10px",
    "top": "150px",
    "width": "191.594px"
   },
   "toc_section_display": true,
   "toc_window_display": true
  },
  "varInspector": {
   "cols": {
    "lenName": 16,
    "lenType": 16,
    "lenVar": 40
   },
   "kernels_config": {
    "python": {
     "delete_cmd_postfix": "",
     "delete_cmd_prefix": "del ",
     "library": "var_list.py",
     "varRefreshCmd": "print(var_dic_list())"
    },
    "r": {
     "delete_cmd_postfix": ") ",
     "delete_cmd_prefix": "rm(",
     "library": "var_list.r",
     "varRefreshCmd": "cat(var_dic_list()) "
    }
   },
   "types_to_exclude": [
    "module",
    "function",
    "builtin_function_or_method",
    "instance",
    "_Feature"
   ],
   "window_display": false
  }
 },
 "nbformat": 4,
 "nbformat_minor": 5
}
