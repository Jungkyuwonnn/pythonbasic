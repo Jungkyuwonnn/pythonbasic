{
 "cells": [
  {
   "cell_type": "code",
   "execution_count": 2,
   "id": "e5112112",
   "metadata": {},
   "outputs": [],
   "source": [
    "# 예시 함수를 하나 만들어보자\n",
    "def hello(name) : \n",
    "    return f\"{name}씨 안녕하세요\""
   ]
  },
  {
   "cell_type": "code",
   "execution_count": 3,
   "id": "ab80c50a",
   "metadata": {},
   "outputs": [
    {
     "data": {
      "text/plain": [
       "'규원씨 안녕하세요'"
      ]
     },
     "execution_count": 3,
     "metadata": {},
     "output_type": "execute_result"
    }
   ],
   "source": [
    "hello('규원')"
   ]
  },
  {
   "cell_type": "code",
   "execution_count": 5,
   "id": "b3c124c8",
   "metadata": {},
   "outputs": [
    {
     "data": {
      "text/plain": [
       "'지금 졸고 있는 상원씨 안녕하세요'"
      ]
     },
     "execution_count": 5,
     "metadata": {},
     "output_type": "execute_result"
    }
   ],
   "source": [
    "hello('지금 졸고 있는 상원')"
   ]
  },
  {
   "cell_type": "code",
   "execution_count": 14,
   "id": "19d309aa",
   "metadata": {},
   "outputs": [],
   "source": [
    "# 함수 제작\n",
    "def number_minus(num1, num2) :\n",
    "    if num1 > num2 :\n",
    "        result = num1 - num2\n",
    "    else :\n",
    "        result = num2 = num1\n",
    "    return result"
   ]
  },
  {
   "cell_type": "code",
   "execution_count": 17,
   "id": "125a9144",
   "metadata": {},
   "outputs": [
    {
     "name": "stdout",
     "output_type": "stream",
     "text": [
      "첫 번재 정수 입력 >> 10\n",
      "두 번재 정수 입력 >> 3\n"
     ]
    },
    {
     "data": {
      "text/plain": [
       "7"
      ]
     },
     "execution_count": 17,
     "metadata": {},
     "output_type": "execute_result"
    }
   ],
   "source": [
    "num1 = int(input(\"첫 번재 정수 입력 >> \"))\n",
    "num2 = int(input(\"두 번재 정수 입력 >> \"))\n",
    "result = number_minus(num1, num2)\n",
    "result"
   ]
  },
  {
   "cell_type": "code",
   "execution_count": 10,
   "id": "31e1b55f",
   "metadata": {},
   "outputs": [],
   "source": [
    "def cal(num1, num2, op):\n",
    "    \"\"\"덧셈과 뺼셈을 해주는 함수\"\"\"\n",
    "    if op == '+':\n",
    "        result = num1 + num2\n",
    "    else :\n",
    "        if num1 > num2 :\n",
    "            result = num1 - num2\n",
    "        else :\n",
    "            result = num2 - num1\n",
    "    return result"
   ]
  },
  {
   "cell_type": "code",
   "execution_count": 9,
   "id": "9236e467",
   "metadata": {},
   "outputs": [
    {
     "name": "stdout",
     "output_type": "stream",
     "text": [
      "첫 번째 정수 입력 >> 8\n",
      "두 번째 정수 입력 >> 6\n",
      "연산자 입력(+,-) >> +\n",
      "결과: 14\n"
     ]
    }
   ],
   "source": [
    "num1 = int(input(\"첫 번째 정수 입력 >> \"))\n",
    "num2 = int(input(\"두 번째 정수 입력 >> \"))\n",
    "op = input('연산자 입력(+,-) >> ')\n",
    "result = cal(num1, num2, op)\n",
    "print(f'결과: {result}')"
   ]
  },
  {
   "cell_type": "code",
   "execution_count": 12,
   "id": "5377a0a9",
   "metadata": {},
   "outputs": [],
   "source": [
    "# 여러 개의 숫자를 받아서 모두 더해주는 함수를 만들어보자\n",
    "def add(*args):\n",
    "    return sum(args)"
   ]
  },
  {
   "cell_type": "code",
   "execution_count": 15,
   "id": "961ef1cc",
   "metadata": {},
   "outputs": [
    {
     "data": {
      "text/plain": [
       "99"
      ]
     },
     "execution_count": 15,
     "metadata": {},
     "output_type": "execute_result"
    }
   ],
   "source": [
    "add(1,4,5,6,76,7)"
   ]
  },
  {
   "cell_type": "code",
   "execution_count": 16,
   "id": "09295ea8",
   "metadata": {},
   "outputs": [],
   "source": [
    "def add_sum(num1, num2):\n",
    "    return num1+num2, num1-num2"
   ]
  },
  {
   "cell_type": "code",
   "execution_count": 25,
   "id": "4974f75d",
   "metadata": {},
   "outputs": [
    {
     "name": "stdout",
     "output_type": "stream",
     "text": [
      "첫 번째 정수 입력 >> 5\n",
      "두 번째 정수 입력 >> 3\n",
      "결과: (8, 2)\n"
     ]
    }
   ],
   "source": [
    "num1 = int(input(\"첫 번째 정수 입력 >> \"))\n",
    "num2 = int(input(\"두 번째 정수 입력 >> \"))\n",
    "result = add_sum(num1, num2)\n",
    "print(f'결과: {result}')"
   ]
  },
  {
   "cell_type": "code",
   "execution_count": 19,
   "id": "68fb7123",
   "metadata": {},
   "outputs": [
    {
     "data": {
      "text/plain": [
       "8"
      ]
     },
     "execution_count": 19,
     "metadata": {},
     "output_type": "execute_result"
    }
   ],
   "source": [
    "# 값을 하나씩 가져오는 방법1 : 인덱싱\n",
    "result[0]"
   ]
  },
  {
   "cell_type": "code",
   "execution_count": 23,
   "id": "d74f16bb",
   "metadata": {},
   "outputs": [
    {
     "name": "stdout",
     "output_type": "stream",
     "text": [
      "8\n",
      "2\n"
     ]
    }
   ],
   "source": [
    "# 값을 하나씩 가져오는 방법2 : 다중 변수 입력\n",
    "result_add, result_minus = add_sum(5,3)\n",
    "print(result_add)\n",
    "print(result_minus)"
   ]
  },
  {
   "cell_type": "code",
   "execution_count": 29,
   "id": "3c78cceb",
   "metadata": {},
   "outputs": [],
   "source": [
    "# 함수 기본값 설정하기\n",
    "def power_of_n(num, power=2) :\n",
    "    return num ** power"
   ]
  },
  {
   "cell_type": "code",
   "execution_count": 32,
   "id": "d5dd303e",
   "metadata": {},
   "outputs": [
    {
     "data": {
      "text/plain": [
       "64"
      ]
     },
     "execution_count": 32,
     "metadata": {},
     "output_type": "execute_result"
    }
   ],
   "source": [
    "power_of_n(4,3)"
   ]
  },
  {
   "cell_type": "code",
   "execution_count": null,
   "id": "5a09e934",
   "metadata": {},
   "outputs": [],
   "source": []
  }
 ],
 "metadata": {
  "kernelspec": {
   "display_name": "Python 3 (ipykernel)",
   "language": "python",
   "name": "python3"
  },
  "language_info": {
   "codemirror_mode": {
    "name": "ipython",
    "version": 3
   },
   "file_extension": ".py",
   "mimetype": "text/x-python",
   "name": "python",
   "nbconvert_exporter": "python",
   "pygments_lexer": "ipython3",
   "version": "3.11.5"
  }
 },
 "nbformat": 4,
 "nbformat_minor": 5
}
