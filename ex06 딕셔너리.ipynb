{
 "cells": [
  {
   "cell_type": "code",
   "execution_count": 1,
   "id": "349772ac",
   "metadata": {},
   "outputs": [
    {
     "data": {
      "text/plain": [
       "{}"
      ]
     },
     "execution_count": 1,
     "metadata": {},
     "output_type": "execute_result"
    }
   ],
   "source": [
    "# 값이 비어있는 빈 딕셔너리 만들기\n",
    "a = {}\n",
    "a"
   ]
  },
  {
   "cell_type": "code",
   "execution_count": 2,
   "id": "f5b4474c",
   "metadata": {},
   "outputs": [
    {
     "data": {
      "text/plain": [
       "{'name': 'KW'}"
      ]
     },
     "execution_count": 2,
     "metadata": {},
     "output_type": "execute_result"
    }
   ],
   "source": [
    "b = {'name' : 'KW'}\n",
    "b"
   ]
  },
  {
   "cell_type": "code",
   "execution_count": 3,
   "id": "394a6372",
   "metadata": {},
   "outputs": [
    {
     "data": {
      "text/plain": [
       "{1: 5, 2: 3}"
      ]
     },
     "execution_count": 3,
     "metadata": {},
     "output_type": "execute_result"
    }
   ],
   "source": [
    "c = {1:5 , 2:3}\n",
    "c"
   ]
  },
  {
   "cell_type": "code",
   "execution_count": 4,
   "id": "0e0a54a2",
   "metadata": {},
   "outputs": [
    {
     "data": {
      "text/plain": [
       "5"
      ]
     },
     "execution_count": 4,
     "metadata": {},
     "output_type": "execute_result"
    }
   ],
   "source": [
    "c[1]"
   ]
  },
  {
   "cell_type": "code",
   "execution_count": 12,
   "id": "a79cf9b5",
   "metadata": {},
   "outputs": [
    {
     "data": {
      "text/plain": [
       "{'name': 'SW', 'age': 26, 'phone': '010-1234-5678'}"
      ]
     },
     "execution_count": 12,
     "metadata": {},
     "output_type": "execute_result"
    }
   ],
   "source": [
    "dic1 = {'name' : 'SW', 'age' : 26, 'phone' : '010-1234-5678'}\n",
    "dic1"
   ]
  },
  {
   "cell_type": "code",
   "execution_count": 13,
   "id": "91201bef",
   "metadata": {},
   "outputs": [
    {
     "name": "stdout",
     "output_type": "stream",
     "text": [
      "<class 'dict'>\n"
     ]
    }
   ],
   "source": [
    "print(type(dic1))"
   ]
  },
  {
   "cell_type": "code",
   "execution_count": 18,
   "id": "4c8a0484",
   "metadata": {},
   "outputs": [
    {
     "data": {
      "text/plain": [
       "{'name': 'SW', 'age': 26, 'phone': '010-1234-5678', 'gender': '12/11'}"
      ]
     },
     "execution_count": 18,
     "metadata": {},
     "output_type": "execute_result"
    }
   ],
   "source": [
    "# 딕셔너리 값 추가해보기\n",
    "# 기존 딕셔너리에 없는 key 값을 설정해서 value값을 추가하면\n",
    "# 딕셔너리에 값이 추가가 된다\n",
    "dic1['gender'] = '12/11'\n",
    "dic1"
   ]
  },
  {
   "cell_type": "code",
   "execution_count": 20,
   "id": "626a5379",
   "metadata": {},
   "outputs": [
    {
     "name": "stdout",
     "output_type": "stream",
     "text": [
      "딕셔너리 수정 전 :  {'name': 'SW', 'age': 26, 'phone': '010-1234-5678', 'gender': '12/11'}\n",
      "딕셔너리 수정 후 : {'name': 'SW', 'age': 26, 'phone': '010-1234-5678', 'gender': '남자'}\n"
     ]
    }
   ],
   "source": [
    "# 딕셔너리 수정\n",
    "print('딕셔너리 수정 전 : ', dic1)\n",
    "# 수정해야하는 value의 key를 가져오자\n",
    "dic1['gender'] = '남자'\n",
    "print('딕셔너리 수정 후 :', dic1)"
   ]
  },
  {
   "cell_type": "code",
   "execution_count": null,
   "id": "f59c320d",
   "metadata": {},
   "outputs": [],
   "source": [
    "dic1['gender'] = '남자'\n",
    "# 기존에 key값이 없었을 경우 -> 값이 추가된다.\n",
    "# 기존에 key값이 있었던 경우 -> 값이 수정된다. "
   ]
  },
  {
   "cell_type": "code",
   "execution_count": 23,
   "id": "ccae6ef6",
   "metadata": {},
   "outputs": [],
   "source": [
    "# 딕셔너리 값 삭제\n",
    "del dic1['age']"
   ]
  },
  {
   "cell_type": "code",
   "execution_count": 24,
   "id": "a608caed",
   "metadata": {},
   "outputs": [
    {
     "data": {
      "text/plain": [
       "{'name': 'SW', 'phone': '010-1234-5678', 'gender': '남자'}"
      ]
     },
     "execution_count": 24,
     "metadata": {},
     "output_type": "execute_result"
    }
   ],
   "source": [
    "dic1"
   ]
  },
  {
   "cell_type": "code",
   "execution_count": 25,
   "id": "129bcb51",
   "metadata": {},
   "outputs": [
    {
     "data": {
      "text/plain": [
       "'SW'"
      ]
     },
     "execution_count": 25,
     "metadata": {},
     "output_type": "execute_result"
    }
   ],
   "source": [
    "# 딕셔너리는 순서가 없는 집합 -> 인덱스 번호가 부여 X\n",
    "# 데이터를 가져오기 위해서 기준이 필요하다\n",
    "# 기준은 변하면 안되기에 불변의 값 Key를 사용한다.\n",
    "# 이름 가져오기\n",
    "dic1['name']"
   ]
  },
  {
   "cell_type": "code",
   "execution_count": 26,
   "id": "ba44314f",
   "metadata": {},
   "outputs": [
    {
     "data": {
      "text/plain": [
       "'남자'"
      ]
     },
     "execution_count": 26,
     "metadata": {},
     "output_type": "execute_result"
    }
   ],
   "source": [
    "# 성별 가져오기\n",
    "dic1['gender']"
   ]
  },
  {
   "cell_type": "code",
   "execution_count": 27,
   "id": "7c108b01",
   "metadata": {},
   "outputs": [
    {
     "data": {
      "text/plain": [
       "'남자'"
      ]
     },
     "execution_count": 27,
     "metadata": {},
     "output_type": "execute_result"
    }
   ],
   "source": [
    "# get 함수 이용\n",
    "dic1.get('gender')"
   ]
  },
  {
   "cell_type": "code",
   "execution_count": 28,
   "id": "81c2ff78",
   "metadata": {},
   "outputs": [
    {
     "ename": "KeyError",
     "evalue": "'age'",
     "output_type": "error",
     "traceback": [
      "\u001b[1;31m---------------------------------------------------------------------------\u001b[0m",
      "\u001b[1;31mKeyError\u001b[0m                                  Traceback (most recent call last)",
      "Cell \u001b[1;32mIn[28], line 3\u001b[0m\n\u001b[0;32m      1\u001b[0m \u001b[38;5;66;03m# 딕셔너리명[key] vs 딕셔너리명.get[key]\u001b[39;00m\n\u001b[0;32m      2\u001b[0m \u001b[38;5;66;03m# 방금전에 삭제한 age를 key값으로 가져오자\u001b[39;00m\n\u001b[1;32m----> 3\u001b[0m dic1[\u001b[38;5;124m'\u001b[39m\u001b[38;5;124mage\u001b[39m\u001b[38;5;124m'\u001b[39m]\n",
      "\u001b[1;31mKeyError\u001b[0m: 'age'"
     ]
    }
   ],
   "source": [
    "# 딕셔너리명[key] vs 딕셔너리명.get[key]\n",
    "# 방금전에 삭제한 age를 key값으로 가져오자\n",
    "dic1['age']"
   ]
  },
  {
   "cell_type": "code",
   "execution_count": 36,
   "id": "94b25c3b",
   "metadata": {},
   "outputs": [
    {
     "name": "stdout",
     "output_type": "stream",
     "text": [
      "None\n"
     ]
    }
   ],
   "source": [
    "# 방금전에 삭제한 age를 .get(key)값으로 가져오자\n",
    "print(dic1.get('age'))"
   ]
  },
  {
   "cell_type": "code",
   "execution_count": 16,
   "id": "87addecb",
   "metadata": {},
   "outputs": [
    {
     "data": {
      "text/plain": [
       "{'노래제목': '라일릭', '가수': '아이유', '날짜': '2021.03.26'}"
      ]
     },
     "execution_count": 16,
     "metadata": {},
     "output_type": "execute_result"
    }
   ],
   "source": [
    "dic_test = {'노래제목':'라일릭'}\n",
    "dic_test['가수']='아이유'\n",
    "dic_test['날짜']='2021.03.26'\n",
    "dic_test"
   ]
  },
  {
   "cell_type": "code",
   "execution_count": 37,
   "id": "61cd7e38",
   "metadata": {},
   "outputs": [
    {
     "data": {
      "text/plain": [
       "{'name': 'SW', 'age': 26, 'phone': '010-1234-5678'}"
      ]
     },
     "execution_count": 37,
     "metadata": {},
     "output_type": "execute_result"
    }
   ],
   "source": [
    "dic1 = {'name' : 'SW', 'age' : 26, 'phone' : '010-1234-5678'}\n",
    "dic1"
   ]
  },
  {
   "cell_type": "code",
   "execution_count": 39,
   "id": "55932175",
   "metadata": {},
   "outputs": [
    {
     "data": {
      "text/plain": [
       "dict_keys(['name', 'age', 'phone'])"
      ]
     },
     "execution_count": 39,
     "metadata": {},
     "output_type": "execute_result"
    }
   ],
   "source": [
    "# 딕셔너리의 구조 상 전체 key값만 필요할 때\n",
    "dic1.keys()"
   ]
  },
  {
   "cell_type": "code",
   "execution_count": 40,
   "id": "cff79909",
   "metadata": {},
   "outputs": [
    {
     "data": {
      "text/plain": [
       "dict_values(['SW', 26, '010-1234-5678'])"
      ]
     },
     "execution_count": 40,
     "metadata": {},
     "output_type": "execute_result"
    }
   ],
   "source": [
    "# 딕셔너리의 구조 상 전체 value값만 필요할 때\n",
    "dic1.values()"
   ]
  },
  {
   "cell_type": "code",
   "execution_count": 41,
   "id": "27488497",
   "metadata": {},
   "outputs": [
    {
     "data": {
      "text/plain": [
       "{'규남': [30, '010-1111-2222', '남자', 178, 78],\n",
       " '상원': [25, '010-0000-2222', '남자', 174, 60]}"
      ]
     },
     "execution_count": 41,
     "metadata": {},
     "output_type": "execute_result"
    }
   ],
   "source": [
    "# 딕셔너리 values값에는 리스트 또는 튜플도 들어간다\n",
    "dic2 = {'규남' : [30, '010-1111-2222', '남자', 178, 78], \n",
    "       '상원' : [25, '010-0000-2222', '남자', 174, 60]}\n",
    "dic2"
   ]
  },
  {
   "cell_type": "code",
   "execution_count": 51,
   "id": "e7924fd9",
   "metadata": {},
   "outputs": [
    {
     "data": {
      "text/plain": [
       "[30, '010-1111-2222', '남자', 178, 78]"
      ]
     },
     "execution_count": 51,
     "metadata": {},
     "output_type": "execute_result"
    }
   ],
   "source": [
    "# value값에 리스트 또는 튜플이 있다면 리스트 / 튜플 전체 가져온다\n",
    "dic2['규남']"
   ]
  },
  {
   "cell_type": "code",
   "execution_count": 50,
   "id": "7209388c",
   "metadata": {},
   "outputs": [
    {
     "data": {
      "text/plain": [
       "178"
      ]
     },
     "execution_count": 50,
     "metadata": {},
     "output_type": "execute_result"
    }
   ],
   "source": [
    "# 가져온 리스트에서 원하는 정보를 인덱스 번호로 가져올 수 있다\n",
    "dic2['규남'][3]"
   ]
  },
  {
   "cell_type": "code",
   "execution_count": 53,
   "id": "44f7636e",
   "metadata": {},
   "outputs": [
    {
     "name": "stdout",
     "output_type": "stream",
     "text": [
      "name\n",
      "age\n",
      "phone\n"
     ]
    }
   ],
   "source": [
    "# 반복문을 활용해서 딕셔너리 사용해보기\n",
    "# key값을 이용해서 for문 써보기\n",
    "for key in dic1.keys():\n",
    "    print(key)"
   ]
  },
  {
   "cell_type": "code",
   "execution_count": 54,
   "id": "db7ed023",
   "metadata": {},
   "outputs": [
    {
     "name": "stdout",
     "output_type": "stream",
     "text": [
      "SW\n",
      "26\n",
      "010-1234-5678\n"
     ]
    }
   ],
   "source": [
    "# value값을 이용해서 for문 써보기\n",
    "# 파란색 상태에서 f 누르기 -> replace\n",
    "for value in dic1.values():\n",
    "    print(value)"
   ]
  },
  {
   "cell_type": "code",
   "execution_count": 55,
   "id": "005aa113",
   "metadata": {},
   "outputs": [
    {
     "data": {
      "text/plain": [
       "dict_items([('name', 'SW'), ('age', 26), ('phone', '010-1234-5678')])"
      ]
     },
     "execution_count": 55,
     "metadata": {},
     "output_type": "execute_result"
    }
   ],
   "source": [
    "# item : 딕셔너리의 key와 value 모두 가져오는 함수\n",
    "dic1.items()"
   ]
  },
  {
   "cell_type": "code",
   "execution_count": 56,
   "id": "fc200a29",
   "metadata": {},
   "outputs": [
    {
     "name": "stdout",
     "output_type": "stream",
     "text": [
      "name \t SW\n",
      "age \t 26\n",
      "phone \t 010-1234-5678\n"
     ]
    }
   ],
   "source": [
    "for key, value in dic1.items():\n",
    "    print(key, \"\\t\", value)"
   ]
  },
  {
   "cell_type": "code",
   "execution_count": 57,
   "id": "c4b01e5a",
   "metadata": {},
   "outputs": [
    {
     "data": {
      "text/plain": [
       "{'규남': [30, '010-1111-2222', '남자', 178, 78],\n",
       " '상원': [25, '010-0000-2222', '남자', 174, 60],\n",
       " '동희': [26, '010-111-4444', '남자', 180, 68],\n",
       " '은해': [23, '010-2222-3333', '여자', 168, 55]}"
      ]
     },
     "execution_count": 57,
     "metadata": {},
     "output_type": "execute_result"
    }
   ],
   "source": [
    "dic2 = {'규남' : [30, '010-1111-2222', '남자', 178, 78], \n",
    "       '상원' : [25, '010-0000-2222', '남자', 174, 60], \n",
    "       '동희' : [26, '010-111-4444', '남자', 180, 68],\n",
    "        '은해' : [23, '010-2222-3333', '여자', 168, 55]}\n",
    "dic2"
   ]
  },
  {
   "cell_type": "code",
   "execution_count": 59,
   "id": "0dbee341",
   "metadata": {},
   "outputs": [
    {
     "name": "stdout",
     "output_type": "stream",
     "text": [
      "30\n",
      "25\n",
      "26\n",
      "23\n"
     ]
    }
   ],
   "source": [
    "# 규남쌤이 딕셔너리에서 반복문 자주쓸 때\n",
    "# 나이만 가져오기\n",
    "for key in dic2.keys() :\n",
    "    print(dic2[key][0])"
   ]
  },
  {
   "cell_type": "code",
   "execution_count": 61,
   "id": "328ac631",
   "metadata": {},
   "outputs": [
    {
     "data": {
      "text/plain": [
       "False"
      ]
     },
     "execution_count": 61,
     "metadata": {},
     "output_type": "execute_result"
    }
   ],
   "source": [
    "# 딕셔너리에서 in 함수 사용하는 법\n",
    "# 딕셔너리에서 in 함수는 key에 한해서 동작한다.\n",
    "\"SW\" in dic1"
   ]
  },
  {
   "cell_type": "code",
   "execution_count": 62,
   "id": "3225c01f",
   "metadata": {},
   "outputs": [
    {
     "data": {
      "text/plain": [
       "True"
      ]
     },
     "execution_count": 62,
     "metadata": {},
     "output_type": "execute_result"
    }
   ],
   "source": [
    "\"name\" in dic1"
   ]
  },
  {
   "cell_type": "code",
   "execution_count": 64,
   "id": "88f934d4",
   "metadata": {},
   "outputs": [
    {
     "name": "stdout",
     "output_type": "stream",
     "text": [
      "{}\n"
     ]
    }
   ],
   "source": [
    "# clear() - 딕셔너리 내부값 초기화\n",
    "dic1.clear()\n",
    "print(dic1)"
   ]
  },
  {
   "cell_type": "code",
   "execution_count": null,
   "id": "dcaabf7b",
   "metadata": {},
   "outputs": [],
   "source": []
  },
  {
   "cell_type": "code",
   "execution_count": null,
   "id": "0e75dee3",
   "metadata": {},
   "outputs": [],
   "source": []
  },
  {
   "cell_type": "code",
   "execution_count": null,
   "id": "8d9dbaa4",
   "metadata": {},
   "outputs": [],
   "source": []
  }
 ],
 "metadata": {
  "kernelspec": {
   "display_name": "Python 3 (ipykernel)",
   "language": "python",
   "name": "python3"
  },
  "language_info": {
   "codemirror_mode": {
    "name": "ipython",
    "version": 3
   },
   "file_extension": ".py",
   "mimetype": "text/x-python",
   "name": "python",
   "nbconvert_exporter": "python",
   "pygments_lexer": "ipython3",
   "version": "3.11.5"
  }
 },
 "nbformat": 4,
 "nbformat_minor": 5
}
